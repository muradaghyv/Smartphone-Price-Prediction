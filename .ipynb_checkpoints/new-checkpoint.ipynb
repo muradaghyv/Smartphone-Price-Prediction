{
 "cells": [
  {
   "cell_type": "code",
   "execution_count": 1,
   "id": "de9a3225-f955-4de4-b45a-1fa930b0362d",
   "metadata": {},
   "outputs": [],
   "source": [
    "import pandas as pd\n",
    "import numpy as np\n",
    "import matplotlib.pyplot as plt\n",
    "import seaborn as sns\n",
    "\n",
    "from sklearn.impute import SimpleImputer\n",
    "from sklearn.preprocessing import StandardScaler\n",
    "from sklearn.model_selection import train_test_split\n",
    "from sklearn.metrics import r2_score\n",
    "from scipy.stats import chi2_contingency\n",
    "\n",
    "from sklearn.ensemble import RandomForestRegressor, GradientBoostingRegressor\n",
    "from xgboost import XGBRegressor\n",
    "\n",
    "pd.set_option(\"display.max_columns\", None)\n",
    "\n",
    "import warnings\n",
    "warnings.filterwarnings(\"ignore\")"
   ]
  },
  {
   "cell_type": "code",
   "execution_count": 2,
   "id": "38af23b0-8d02-4fb4-92b0-f998857cf0d5",
   "metadata": {},
   "outputs": [
    {
     "data": {
      "text/html": [
       "<div>\n",
       "<style scoped>\n",
       "    .dataframe tbody tr th:only-of-type {\n",
       "        vertical-align: middle;\n",
       "    }\n",
       "\n",
       "    .dataframe tbody tr th {\n",
       "        vertical-align: top;\n",
       "    }\n",
       "\n",
       "    .dataframe thead th {\n",
       "        text-align: right;\n",
       "    }\n",
       "</style>\n",
       "<table border=\"1\" class=\"dataframe\">\n",
       "  <thead>\n",
       "    <tr style=\"text-align: right;\">\n",
       "      <th></th>\n",
       "      <th>brand_name</th>\n",
       "      <th>model</th>\n",
       "      <th>price</th>\n",
       "      <th>rating</th>\n",
       "      <th>has_5g</th>\n",
       "      <th>has_nfc</th>\n",
       "      <th>has_ir_blaster</th>\n",
       "      <th>processor_brand</th>\n",
       "      <th>num_cores</th>\n",
       "      <th>processor_speed</th>\n",
       "      <th>battery_capacity</th>\n",
       "      <th>fast_charging_available</th>\n",
       "      <th>fast_charging</th>\n",
       "      <th>ram_capacity</th>\n",
       "      <th>internal_memory</th>\n",
       "      <th>screen_size</th>\n",
       "      <th>refresh_rate</th>\n",
       "      <th>num_rear_cameras</th>\n",
       "      <th>num_front_cameras</th>\n",
       "      <th>os</th>\n",
       "      <th>primary_camera_rear</th>\n",
       "      <th>primary_camera_front</th>\n",
       "      <th>extended_memory_available</th>\n",
       "      <th>extended_upto</th>\n",
       "      <th>resolution_width</th>\n",
       "      <th>resolution_height</th>\n",
       "    </tr>\n",
       "  </thead>\n",
       "  <tbody>\n",
       "    <tr>\n",
       "      <th>0</th>\n",
       "      <td>oneplus</td>\n",
       "      <td>OnePlus 11 5G</td>\n",
       "      <td>54999</td>\n",
       "      <td>89.0</td>\n",
       "      <td>True</td>\n",
       "      <td>True</td>\n",
       "      <td>False</td>\n",
       "      <td>snapdragon</td>\n",
       "      <td>8.0</td>\n",
       "      <td>3.2</td>\n",
       "      <td>5000.0</td>\n",
       "      <td>1</td>\n",
       "      <td>100.0</td>\n",
       "      <td>12.0</td>\n",
       "      <td>256.0</td>\n",
       "      <td>6.70</td>\n",
       "      <td>120</td>\n",
       "      <td>3</td>\n",
       "      <td>1.0</td>\n",
       "      <td>android</td>\n",
       "      <td>50.0</td>\n",
       "      <td>16.0</td>\n",
       "      <td>0</td>\n",
       "      <td>NaN</td>\n",
       "      <td>1440</td>\n",
       "      <td>3216</td>\n",
       "    </tr>\n",
       "    <tr>\n",
       "      <th>1</th>\n",
       "      <td>oneplus</td>\n",
       "      <td>OnePlus Nord CE 2 Lite 5G</td>\n",
       "      <td>19989</td>\n",
       "      <td>81.0</td>\n",
       "      <td>True</td>\n",
       "      <td>False</td>\n",
       "      <td>False</td>\n",
       "      <td>snapdragon</td>\n",
       "      <td>8.0</td>\n",
       "      <td>2.2</td>\n",
       "      <td>5000.0</td>\n",
       "      <td>1</td>\n",
       "      <td>33.0</td>\n",
       "      <td>6.0</td>\n",
       "      <td>128.0</td>\n",
       "      <td>6.59</td>\n",
       "      <td>120</td>\n",
       "      <td>3</td>\n",
       "      <td>1.0</td>\n",
       "      <td>android</td>\n",
       "      <td>64.0</td>\n",
       "      <td>16.0</td>\n",
       "      <td>1</td>\n",
       "      <td>1024.0</td>\n",
       "      <td>1080</td>\n",
       "      <td>2412</td>\n",
       "    </tr>\n",
       "    <tr>\n",
       "      <th>2</th>\n",
       "      <td>samsung</td>\n",
       "      <td>Samsung Galaxy A14 5G</td>\n",
       "      <td>16499</td>\n",
       "      <td>75.0</td>\n",
       "      <td>True</td>\n",
       "      <td>False</td>\n",
       "      <td>False</td>\n",
       "      <td>exynos</td>\n",
       "      <td>8.0</td>\n",
       "      <td>2.4</td>\n",
       "      <td>5000.0</td>\n",
       "      <td>1</td>\n",
       "      <td>15.0</td>\n",
       "      <td>4.0</td>\n",
       "      <td>64.0</td>\n",
       "      <td>6.60</td>\n",
       "      <td>90</td>\n",
       "      <td>3</td>\n",
       "      <td>1.0</td>\n",
       "      <td>android</td>\n",
       "      <td>50.0</td>\n",
       "      <td>13.0</td>\n",
       "      <td>1</td>\n",
       "      <td>1024.0</td>\n",
       "      <td>1080</td>\n",
       "      <td>2408</td>\n",
       "    </tr>\n",
       "    <tr>\n",
       "      <th>3</th>\n",
       "      <td>motorola</td>\n",
       "      <td>Motorola Moto G62 5G</td>\n",
       "      <td>14999</td>\n",
       "      <td>81.0</td>\n",
       "      <td>True</td>\n",
       "      <td>False</td>\n",
       "      <td>False</td>\n",
       "      <td>snapdragon</td>\n",
       "      <td>8.0</td>\n",
       "      <td>2.2</td>\n",
       "      <td>5000.0</td>\n",
       "      <td>1</td>\n",
       "      <td>NaN</td>\n",
       "      <td>6.0</td>\n",
       "      <td>128.0</td>\n",
       "      <td>6.55</td>\n",
       "      <td>120</td>\n",
       "      <td>3</td>\n",
       "      <td>1.0</td>\n",
       "      <td>android</td>\n",
       "      <td>50.0</td>\n",
       "      <td>16.0</td>\n",
       "      <td>1</td>\n",
       "      <td>1024.0</td>\n",
       "      <td>1080</td>\n",
       "      <td>2400</td>\n",
       "    </tr>\n",
       "    <tr>\n",
       "      <th>4</th>\n",
       "      <td>realme</td>\n",
       "      <td>Realme 10 Pro Plus</td>\n",
       "      <td>24999</td>\n",
       "      <td>82.0</td>\n",
       "      <td>True</td>\n",
       "      <td>False</td>\n",
       "      <td>False</td>\n",
       "      <td>dimensity</td>\n",
       "      <td>8.0</td>\n",
       "      <td>2.6</td>\n",
       "      <td>5000.0</td>\n",
       "      <td>1</td>\n",
       "      <td>67.0</td>\n",
       "      <td>6.0</td>\n",
       "      <td>128.0</td>\n",
       "      <td>6.70</td>\n",
       "      <td>120</td>\n",
       "      <td>3</td>\n",
       "      <td>1.0</td>\n",
       "      <td>android</td>\n",
       "      <td>108.0</td>\n",
       "      <td>16.0</td>\n",
       "      <td>0</td>\n",
       "      <td>NaN</td>\n",
       "      <td>1080</td>\n",
       "      <td>2412</td>\n",
       "    </tr>\n",
       "  </tbody>\n",
       "</table>\n",
       "</div>"
      ],
      "text/plain": [
       "  brand_name                      model  price  rating  has_5g  has_nfc  \\\n",
       "0    oneplus              OnePlus 11 5G  54999    89.0    True     True   \n",
       "1    oneplus  OnePlus Nord CE 2 Lite 5G  19989    81.0    True    False   \n",
       "2    samsung      Samsung Galaxy A14 5G  16499    75.0    True    False   \n",
       "3   motorola       Motorola Moto G62 5G  14999    81.0    True    False   \n",
       "4     realme         Realme 10 Pro Plus  24999    82.0    True    False   \n",
       "\n",
       "   has_ir_blaster processor_brand  num_cores  processor_speed  \\\n",
       "0           False      snapdragon        8.0              3.2   \n",
       "1           False      snapdragon        8.0              2.2   \n",
       "2           False          exynos        8.0              2.4   \n",
       "3           False      snapdragon        8.0              2.2   \n",
       "4           False       dimensity        8.0              2.6   \n",
       "\n",
       "   battery_capacity  fast_charging_available  fast_charging  ram_capacity  \\\n",
       "0            5000.0                        1          100.0          12.0   \n",
       "1            5000.0                        1           33.0           6.0   \n",
       "2            5000.0                        1           15.0           4.0   \n",
       "3            5000.0                        1            NaN           6.0   \n",
       "4            5000.0                        1           67.0           6.0   \n",
       "\n",
       "   internal_memory  screen_size  refresh_rate  num_rear_cameras  \\\n",
       "0            256.0         6.70           120                 3   \n",
       "1            128.0         6.59           120                 3   \n",
       "2             64.0         6.60            90                 3   \n",
       "3            128.0         6.55           120                 3   \n",
       "4            128.0         6.70           120                 3   \n",
       "\n",
       "   num_front_cameras       os  primary_camera_rear  primary_camera_front  \\\n",
       "0                1.0  android                 50.0                  16.0   \n",
       "1                1.0  android                 64.0                  16.0   \n",
       "2                1.0  android                 50.0                  13.0   \n",
       "3                1.0  android                 50.0                  16.0   \n",
       "4                1.0  android                108.0                  16.0   \n",
       "\n",
       "   extended_memory_available  extended_upto  resolution_width  \\\n",
       "0                          0            NaN              1440   \n",
       "1                          1         1024.0              1080   \n",
       "2                          1         1024.0              1080   \n",
       "3                          1         1024.0              1080   \n",
       "4                          0            NaN              1080   \n",
       "\n",
       "   resolution_height  \n",
       "0               3216  \n",
       "1               2412  \n",
       "2               2408  \n",
       "3               2400  \n",
       "4               2412  "
      ]
     },
     "execution_count": 2,
     "metadata": {},
     "output_type": "execute_result"
    }
   ],
   "source": [
    "df = pd.read_csv(\"dataset.csv\")\n",
    "df.head()"
   ]
  },
  {
   "cell_type": "code",
   "execution_count": 3,
   "id": "ba7c1577-6769-44a3-9534-b72d6291bef6",
   "metadata": {},
   "outputs": [],
   "source": [
    "df.drop(df[df[\"price\"]==650000].index, axis=0, inplace=True)"
   ]
  },
  {
   "cell_type": "code",
   "execution_count": 4,
   "id": "d7aa97f3-7845-46a5-a56e-dfa7c88ad741",
   "metadata": {},
   "outputs": [],
   "source": [
    "df.drop([\"model\", \"extended_upto\"], axis=1, inplace=True)"
   ]
  },
  {
   "cell_type": "code",
   "execution_count": 5,
   "id": "15f23572-37c0-4615-affd-357f53393900",
   "metadata": {},
   "outputs": [],
   "source": [
    "df[\"brand_name\"] = df[\"brand_name\"].replace({\"oneplus\":\"oppo\",\n",
    "                                             \"realme\":\"xiaomi\", \n",
    "                                             \"redmi\":\"xiaomi\",\n",
    "                                             \"poco\":\"xiaomi\"})"
   ]
  },
  {
   "cell_type": "code",
   "execution_count": 6,
   "id": "97625791-4c6f-48a7-9c49-c10d17b24171",
   "metadata": {},
   "outputs": [],
   "source": [
    "df_copy = df.copy()\n",
    "temp = df_copy.groupby([\"brand_name\"])[\"price\"].mean()\n",
    "df_copy = df_copy.merge(temp.reset_index(), how=\"left\", on=\"brand_name\")"
   ]
  },
  {
   "cell_type": "code",
   "execution_count": 7,
   "id": "be5b6283-722f-4fd5-b084-6a007053a950",
   "metadata": {},
   "outputs": [],
   "source": [
    "dct = {}\n",
    "for i in range (df_copy[\"price_y\"].nunique()): \n",
    "    if df_copy[\"brand_name\"].unique()[i] not in dct:\n",
    "        dct[df_copy[\"brand_name\"].unique()[i]] = df_copy[\"price_y\"].unique()[i]"
   ]
  },
  {
   "cell_type": "code",
   "execution_count": 8,
   "id": "96f19402-46f6-41f1-9241-1584a38acb9d",
   "metadata": {},
   "outputs": [],
   "source": [
    "bins = [0, 25000, 50000, 130000]\n",
    "label = [\"budget_friendly\", \"middle_range\", \"expensive\"]\n",
    "df[\"category\"] = pd.cut(df_copy[\"price_y\"], bins, right=False, labels=label)"
   ]
  },
  {
   "cell_type": "code",
   "execution_count": 9,
   "id": "47e314ac-c575-4b41-9788-813b0006cd83",
   "metadata": {},
   "outputs": [
    {
     "data": {
      "text/html": [
       "<div>\n",
       "<style scoped>\n",
       "    .dataframe tbody tr th:only-of-type {\n",
       "        vertical-align: middle;\n",
       "    }\n",
       "\n",
       "    .dataframe tbody tr th {\n",
       "        vertical-align: top;\n",
       "    }\n",
       "\n",
       "    .dataframe thead th {\n",
       "        text-align: right;\n",
       "    }\n",
       "</style>\n",
       "<table border=\"1\" class=\"dataframe\">\n",
       "  <thead>\n",
       "    <tr style=\"text-align: right;\">\n",
       "      <th></th>\n",
       "      <th>brand_name</th>\n",
       "      <th>price</th>\n",
       "      <th>rating</th>\n",
       "      <th>has_5g</th>\n",
       "      <th>has_nfc</th>\n",
       "      <th>has_ir_blaster</th>\n",
       "      <th>processor_brand</th>\n",
       "      <th>num_cores</th>\n",
       "      <th>processor_speed</th>\n",
       "      <th>battery_capacity</th>\n",
       "      <th>fast_charging_available</th>\n",
       "      <th>fast_charging</th>\n",
       "      <th>ram_capacity</th>\n",
       "      <th>internal_memory</th>\n",
       "      <th>screen_size</th>\n",
       "      <th>refresh_rate</th>\n",
       "      <th>num_rear_cameras</th>\n",
       "      <th>num_front_cameras</th>\n",
       "      <th>os</th>\n",
       "      <th>primary_camera_rear</th>\n",
       "      <th>primary_camera_front</th>\n",
       "      <th>extended_memory_available</th>\n",
       "      <th>resolution_width</th>\n",
       "      <th>resolution_height</th>\n",
       "      <th>category</th>\n",
       "    </tr>\n",
       "  </thead>\n",
       "  <tbody>\n",
       "    <tr>\n",
       "      <th>0</th>\n",
       "      <td>oppo</td>\n",
       "      <td>54999</td>\n",
       "      <td>89.0</td>\n",
       "      <td>True</td>\n",
       "      <td>True</td>\n",
       "      <td>False</td>\n",
       "      <td>snapdragon</td>\n",
       "      <td>8.0</td>\n",
       "      <td>3.2</td>\n",
       "      <td>5000.0</td>\n",
       "      <td>1</td>\n",
       "      <td>100.0</td>\n",
       "      <td>12.0</td>\n",
       "      <td>256.0</td>\n",
       "      <td>6.70</td>\n",
       "      <td>120</td>\n",
       "      <td>3</td>\n",
       "      <td>1.0</td>\n",
       "      <td>android</td>\n",
       "      <td>50.0</td>\n",
       "      <td>16.0</td>\n",
       "      <td>0</td>\n",
       "      <td>1440</td>\n",
       "      <td>3216</td>\n",
       "      <td>middle_range</td>\n",
       "    </tr>\n",
       "    <tr>\n",
       "      <th>1</th>\n",
       "      <td>oppo</td>\n",
       "      <td>19989</td>\n",
       "      <td>81.0</td>\n",
       "      <td>True</td>\n",
       "      <td>False</td>\n",
       "      <td>False</td>\n",
       "      <td>snapdragon</td>\n",
       "      <td>8.0</td>\n",
       "      <td>2.2</td>\n",
       "      <td>5000.0</td>\n",
       "      <td>1</td>\n",
       "      <td>33.0</td>\n",
       "      <td>6.0</td>\n",
       "      <td>128.0</td>\n",
       "      <td>6.59</td>\n",
       "      <td>120</td>\n",
       "      <td>3</td>\n",
       "      <td>1.0</td>\n",
       "      <td>android</td>\n",
       "      <td>64.0</td>\n",
       "      <td>16.0</td>\n",
       "      <td>1</td>\n",
       "      <td>1080</td>\n",
       "      <td>2412</td>\n",
       "      <td>middle_range</td>\n",
       "    </tr>\n",
       "    <tr>\n",
       "      <th>2</th>\n",
       "      <td>samsung</td>\n",
       "      <td>16499</td>\n",
       "      <td>75.0</td>\n",
       "      <td>True</td>\n",
       "      <td>False</td>\n",
       "      <td>False</td>\n",
       "      <td>exynos</td>\n",
       "      <td>8.0</td>\n",
       "      <td>2.4</td>\n",
       "      <td>5000.0</td>\n",
       "      <td>1</td>\n",
       "      <td>15.0</td>\n",
       "      <td>4.0</td>\n",
       "      <td>64.0</td>\n",
       "      <td>6.60</td>\n",
       "      <td>90</td>\n",
       "      <td>3</td>\n",
       "      <td>1.0</td>\n",
       "      <td>android</td>\n",
       "      <td>50.0</td>\n",
       "      <td>13.0</td>\n",
       "      <td>1</td>\n",
       "      <td>1080</td>\n",
       "      <td>2408</td>\n",
       "      <td>middle_range</td>\n",
       "    </tr>\n",
       "    <tr>\n",
       "      <th>3</th>\n",
       "      <td>motorola</td>\n",
       "      <td>14999</td>\n",
       "      <td>81.0</td>\n",
       "      <td>True</td>\n",
       "      <td>False</td>\n",
       "      <td>False</td>\n",
       "      <td>snapdragon</td>\n",
       "      <td>8.0</td>\n",
       "      <td>2.2</td>\n",
       "      <td>5000.0</td>\n",
       "      <td>1</td>\n",
       "      <td>NaN</td>\n",
       "      <td>6.0</td>\n",
       "      <td>128.0</td>\n",
       "      <td>6.55</td>\n",
       "      <td>120</td>\n",
       "      <td>3</td>\n",
       "      <td>1.0</td>\n",
       "      <td>android</td>\n",
       "      <td>50.0</td>\n",
       "      <td>16.0</td>\n",
       "      <td>1</td>\n",
       "      <td>1080</td>\n",
       "      <td>2400</td>\n",
       "      <td>budget_friendly</td>\n",
       "    </tr>\n",
       "    <tr>\n",
       "      <th>4</th>\n",
       "      <td>xiaomi</td>\n",
       "      <td>24999</td>\n",
       "      <td>82.0</td>\n",
       "      <td>True</td>\n",
       "      <td>False</td>\n",
       "      <td>False</td>\n",
       "      <td>dimensity</td>\n",
       "      <td>8.0</td>\n",
       "      <td>2.6</td>\n",
       "      <td>5000.0</td>\n",
       "      <td>1</td>\n",
       "      <td>67.0</td>\n",
       "      <td>6.0</td>\n",
       "      <td>128.0</td>\n",
       "      <td>6.70</td>\n",
       "      <td>120</td>\n",
       "      <td>3</td>\n",
       "      <td>1.0</td>\n",
       "      <td>android</td>\n",
       "      <td>108.0</td>\n",
       "      <td>16.0</td>\n",
       "      <td>0</td>\n",
       "      <td>1080</td>\n",
       "      <td>2412</td>\n",
       "      <td>budget_friendly</td>\n",
       "    </tr>\n",
       "  </tbody>\n",
       "</table>\n",
       "</div>"
      ],
      "text/plain": [
       "  brand_name  price  rating  has_5g  has_nfc  has_ir_blaster processor_brand  \\\n",
       "0       oppo  54999    89.0    True     True           False      snapdragon   \n",
       "1       oppo  19989    81.0    True    False           False      snapdragon   \n",
       "2    samsung  16499    75.0    True    False           False          exynos   \n",
       "3   motorola  14999    81.0    True    False           False      snapdragon   \n",
       "4     xiaomi  24999    82.0    True    False           False       dimensity   \n",
       "\n",
       "   num_cores  processor_speed  battery_capacity  fast_charging_available  \\\n",
       "0        8.0              3.2            5000.0                        1   \n",
       "1        8.0              2.2            5000.0                        1   \n",
       "2        8.0              2.4            5000.0                        1   \n",
       "3        8.0              2.2            5000.0                        1   \n",
       "4        8.0              2.6            5000.0                        1   \n",
       "\n",
       "   fast_charging  ram_capacity  internal_memory  screen_size  refresh_rate  \\\n",
       "0          100.0          12.0            256.0         6.70           120   \n",
       "1           33.0           6.0            128.0         6.59           120   \n",
       "2           15.0           4.0             64.0         6.60            90   \n",
       "3            NaN           6.0            128.0         6.55           120   \n",
       "4           67.0           6.0            128.0         6.70           120   \n",
       "\n",
       "   num_rear_cameras  num_front_cameras       os  primary_camera_rear  \\\n",
       "0                 3                1.0  android                 50.0   \n",
       "1                 3                1.0  android                 64.0   \n",
       "2                 3                1.0  android                 50.0   \n",
       "3                 3                1.0  android                 50.0   \n",
       "4                 3                1.0  android                108.0   \n",
       "\n",
       "   primary_camera_front  extended_memory_available  resolution_width  \\\n",
       "0                  16.0                          0              1440   \n",
       "1                  16.0                          1              1080   \n",
       "2                  13.0                          1              1080   \n",
       "3                  16.0                          1              1080   \n",
       "4                  16.0                          0              1080   \n",
       "\n",
       "   resolution_height         category  \n",
       "0               3216     middle_range  \n",
       "1               2412     middle_range  \n",
       "2               2408     middle_range  \n",
       "3               2400  budget_friendly  \n",
       "4               2412  budget_friendly  "
      ]
     },
     "execution_count": 9,
     "metadata": {},
     "output_type": "execute_result"
    }
   ],
   "source": [
    "df.head()"
   ]
  },
  {
   "cell_type": "code",
   "execution_count": 10,
   "id": "2e78aec8-db35-4fdc-8c34-c27286eaa0fd",
   "metadata": {},
   "outputs": [
    {
     "name": "stdout",
     "output_type": "stream",
     "text": [
      "<class 'pandas.core.frame.DataFrame'>\n",
      "Index: 979 entries, 0 to 979\n",
      "Data columns (total 25 columns):\n",
      " #   Column                     Non-Null Count  Dtype   \n",
      "---  ------                     --------------  -----   \n",
      " 0   brand_name                 979 non-null    object  \n",
      " 1   price                      979 non-null    int64   \n",
      " 2   rating                     878 non-null    float64 \n",
      " 3   has_5g                     979 non-null    bool    \n",
      " 4   has_nfc                    979 non-null    bool    \n",
      " 5   has_ir_blaster             979 non-null    bool    \n",
      " 6   processor_brand            959 non-null    object  \n",
      " 7   num_cores                  973 non-null    float64 \n",
      " 8   processor_speed            937 non-null    float64 \n",
      " 9   battery_capacity           968 non-null    float64 \n",
      " 10  fast_charging_available    979 non-null    int64   \n",
      " 11  fast_charging              769 non-null    float64 \n",
      " 12  ram_capacity               979 non-null    float64 \n",
      " 13  internal_memory            979 non-null    float64 \n",
      " 14  screen_size                979 non-null    float64 \n",
      " 15  refresh_rate               979 non-null    int64   \n",
      " 16  num_rear_cameras           979 non-null    int64   \n",
      " 17  num_front_cameras          975 non-null    float64 \n",
      " 18  os                         965 non-null    object  \n",
      " 19  primary_camera_rear        979 non-null    float64 \n",
      " 20  primary_camera_front       974 non-null    float64 \n",
      " 21  extended_memory_available  979 non-null    int64   \n",
      " 22  resolution_width           979 non-null    int64   \n",
      " 23  resolution_height          979 non-null    int64   \n",
      " 24  category                   978 non-null    category\n",
      "dtypes: bool(3), category(1), float64(11), int64(7), object(3)\n",
      "memory usage: 172.2+ KB\n"
     ]
    }
   ],
   "source": [
    "df.info()"
   ]
  },
  {
   "cell_type": "code",
   "execution_count": 11,
   "id": "a5e0fc81-af45-4a8a-87ad-9957fd12d2c3",
   "metadata": {},
   "outputs": [],
   "source": [
    "df[\"fast_charging_available\"] = df[\"fast_charging_available\"].astype(\"bool\")\n",
    "df[\"extended_memory_available\"] = df[\"extended_memory_available\"].astype(\"bool\")\n",
    "df[\"category\"] = df[\"category\"].astype(\"object\")"
   ]
  },
  {
   "cell_type": "code",
   "execution_count": 12,
   "id": "4f7ce60a-10f2-4659-8620-ae0feeceb295",
   "metadata": {},
   "outputs": [],
   "source": [
    "num_col = df.select_dtypes(exclude=[\"object\", \"bool\"]).columns\n",
    "cat_col = df.select_dtypes(include=[\"object\", \"bool\"]).columns"
   ]
  },
  {
   "cell_type": "code",
   "execution_count": 13,
   "id": "6f62b43c-3bda-4f15-986e-87563af60d28",
   "metadata": {},
   "outputs": [],
   "source": [
    "imputer_mean = SimpleImputer(strategy=\"mean\")\n",
    "imputer_median = SimpleImputer(strategy=\"median\")\n",
    "imputer_mode = SimpleImputer(strategy=\"most_frequent\")\n",
    "\n",
    "df[\"rating\"] = imputer_mean.fit_transform(df[\"rating\"].values.reshape(-1, 1))\n",
    "df[\"processor_brand\"] = imputer_mode.fit_transform(df[\"processor_brand\"].values.reshape(-1, 1)).reshape(-1)\n",
    "df[\"num_cores\"] = imputer_median.fit_transform(df[\"num_cores\"].values.reshape(-1, 1))\n",
    "df[\"processor_speed\"] = imputer_mean.fit_transform(df[\"processor_speed\"].values.reshape(-1, 1))\n",
    "df[\"battery_capacity\"] = imputer_mean.fit_transform(df[\"battery_capacity\"].values.reshape(-1, 1))\n",
    "df[\"fast_charging\"] = imputer_mean.fit_transform(df[\"fast_charging\"].values.reshape(-1, 1))\n",
    "df[\"num_front_cameras\"] = imputer_median.fit_transform(df[\"num_front_cameras\"].values.reshape(-1, 1))\n",
    "df[\"os\"] = imputer_mode.fit_transform(df[\"os\"].values.reshape(-1, 1)).reshape(-1)\n",
    "df[\"primary_camera_front\"] = imputer_median.fit_transform(df[\"primary_camera_front\"].values.reshape(-1, 1))"
   ]
  },
  {
   "cell_type": "code",
   "execution_count": 14,
   "id": "fc3b248e-bf7e-4ada-bf34-e2629eea9c5c",
   "metadata": {},
   "outputs": [
    {
     "name": "stdout",
     "output_type": "stream",
     "text": [
      "Chi-square test between brand_name and has_5g: p-value: 1.0425532823486493e-15\n",
      "Chi-square test between brand_name and has_nfc: p-value: 1.7757923145284457e-39\n",
      "Chi-square test between brand_name and has_ir_blaster: p-value: 1.1544505926318781e-54\n",
      "Chi-square test between brand_name and processor_brand: p-value: 0.0\n",
      "Chi-square test between brand_name and fast_charging_available: p-value: 1.0469690197120382e-23\n",
      "Chi-square test between brand_name and os: p-value: 6.2699228057520695e-233\n",
      "Chi-square test between brand_name and extended_memory_available: p-value: 2.0705117745449093e-31\n",
      "Chi-square test between brand_name and category: p-value: 4.53015183021637e-60\n",
      "Chi-square test between has_5g and has_nfc: p-value: 2.4854431771619072e-51\n",
      "Chi-square test between has_5g and has_ir_blaster: p-value: 0.0013666967311859574\n",
      "Chi-square test between has_5g and processor_brand: p-value: 9.636272516355459e-100\n",
      "Chi-square test between has_5g and fast_charging_available: p-value: 3.989111800502643e-28\n",
      "Chi-square test between has_5g and os: p-value: 0.0005341244271238668\n",
      "Chi-square test between has_5g and extended_memory_available: p-value: 7.23209003172651e-57\n",
      "Chi-square test between has_5g and category: p-value: 0.023616172861974424\n",
      "Chi-square test between has_nfc and has_ir_blaster: p-value: 0.3610180767748775\n",
      "Chi-square test between has_nfc and processor_brand: p-value: 1.2572988638275252e-47\n",
      "Chi-square test between has_nfc and fast_charging_available: p-value: 7.696483628107197e-14\n",
      "Chi-square test between has_nfc and os: p-value: 5.227215966291939e-16\n",
      "Chi-square test between has_nfc and extended_memory_available: p-value: 4.2508697298579964e-69\n",
      "Chi-square test between has_nfc and category: p-value: 1.2817301095851637e-05\n",
      "Chi-square test between has_ir_blaster and processor_brand: p-value: 1.971187416691799e-08\n",
      "Chi-square test between has_ir_blaster and fast_charging_available: p-value: 1.1213461879969566e-07\n",
      "Chi-square test between has_ir_blaster and os: p-value: 0.006048848996148947\n",
      "Chi-square test between has_ir_blaster and extended_memory_available: p-value: 0.21725855968481023\n",
      "Chi-square test between has_ir_blaster and category: p-value: 4.1999494576543245e-12\n",
      "Chi-square test between processor_brand and fast_charging_available: p-value: 1.8010641088895297e-38\n",
      "Chi-square test between processor_brand and os: p-value: 2.1230859517800295e-203\n",
      "Chi-square test between processor_brand and extended_memory_available: p-value: 5.809301133502627e-45\n",
      "Chi-square test between processor_brand and category: p-value: 2.5536901634139808e-36\n",
      "Chi-square test between fast_charging_available and os: p-value: 0.006506535774371127\n",
      "Chi-square test between fast_charging_available and extended_memory_available: p-value: 1.5959291505077568e-07\n",
      "Chi-square test between fast_charging_available and category: p-value: 2.7210952920524293e-05\n",
      "Chi-square test between os and extended_memory_available: p-value: 1.1220085404137707e-18\n",
      "Chi-square test between os and category: p-value: 2.9674305449576395e-39\n",
      "Chi-square test between extended_memory_available and category: p-value: 3.351645346158324e-05\n"
     ]
    }
   ],
   "source": [
    "for i in range (len(cat_col)):\n",
    "    for j in range (i+1, len(cat_col)):\n",
    "        cont_table = pd.crosstab(df[cat_col[i]], df[cat_col[j]])\n",
    "        chi2, p, dof, ex = chi2_contingency(cont_table)\n",
    "        print(f\"Chi-square test between {cat_col[i]} and {cat_col[j]}: p-value: {p}\")"
   ]
  },
  {
   "cell_type": "code",
   "execution_count": 15,
   "id": "75ccff8c-a8f3-4c76-8ab3-02256323a52f",
   "metadata": {},
   "outputs": [
    {
     "data": {
      "text/plain": [
       "(979, 61)"
      ]
     },
     "execution_count": 15,
     "metadata": {},
     "output_type": "execute_result"
    }
   ],
   "source": [
    "dummies = pd.get_dummies(data=df[cat_col], drop_first=True, dtype=\"int8\")\n",
    "dummies.shape"
   ]
  },
  {
   "cell_type": "code",
   "execution_count": 16,
   "id": "b86c38f7-b993-4e44-b998-e76c4062ac9e",
   "metadata": {},
   "outputs": [],
   "source": [
    "dummies = dummies.astype(\"int64\")"
   ]
  },
  {
   "cell_type": "code",
   "execution_count": 17,
   "id": "efcea37a-1550-47cd-bc38-cd204e410e27",
   "metadata": {},
   "outputs": [
    {
     "data": {
      "text/plain": [
       "(979, 70)"
      ]
     },
     "execution_count": 17,
     "metadata": {},
     "output_type": "execute_result"
    }
   ],
   "source": [
    "dataset = pd.concat([df[cat_col], dummies], axis=1)\n",
    "dataset.shape"
   ]
  },
  {
   "cell_type": "code",
   "execution_count": 18,
   "id": "8bca1b90-5497-471b-bf7f-17f914082b09",
   "metadata": {},
   "outputs": [],
   "source": [
    "from statsmodels.stats.outliers_influence import variance_inflation_factor\n",
    "vif_data = pd.DataFrame()\n",
    "vif_data[\"features\"] = dummies.columns\n",
    "vif_data[\"vif\"] = [variance_inflation_factor(dummies.values, i) for i in range(dummies.shape[1])]\n",
    "\n",
    "necessary_cat_col = vif_data[vif_data[\"vif\"]<10][\"features\"]"
   ]
  },
  {
   "cell_type": "code",
   "execution_count": 19,
   "id": "87815c3e-a495-43bf-9f0d-045704fb12ac",
   "metadata": {},
   "outputs": [],
   "source": [
    "necessary_cat_col = list(necessary_cat_col)\n",
    "necessary_cat_col.remove(\"has_ir_blaster\")"
   ]
  },
  {
   "cell_type": "code",
   "execution_count": 20,
   "id": "3808359e-52b6-4164-927c-856867bca07a",
   "metadata": {},
   "outputs": [
    {
     "data": {
      "text/plain": [
       "['has_5g',\n",
       " 'has_nfc',\n",
       " 'fast_charging_available',\n",
       " 'extended_memory_available',\n",
       " 'processor_brand_fusion',\n",
       " 'os_ios',\n",
       " 'os_other',\n",
       " 'category_expensive',\n",
       " 'category_middle_range']"
      ]
     },
     "execution_count": 20,
     "metadata": {},
     "output_type": "execute_result"
    }
   ],
   "source": [
    "necessary_cat_col"
   ]
  },
  {
   "cell_type": "code",
   "execution_count": 21,
   "id": "2553868e-e39c-4086-a991-92cd2b5e8e34",
   "metadata": {},
   "outputs": [],
   "source": [
    "necessary_num_col = [\"price\", \"rating\", \"processor_speed\", \"fast_charging\", \"ram_capacity\",\n",
    "                 \"internal_memory\", \"screen_size\", \"primary_camera_front\", \"resolution_height\"]"
   ]
  },
  {
   "cell_type": "code",
   "execution_count": 22,
   "id": "6155557e-c0be-4eeb-b150-635579a409cc",
   "metadata": {},
   "outputs": [],
   "source": [
    "data = pd.concat([df[necessary_num_col], dummies[necessary_cat_col]], axis=1)"
   ]
  },
  {
   "cell_type": "code",
   "execution_count": 23,
   "id": "57c5a9b1-12a2-43e8-8db0-dce8febfb075",
   "metadata": {},
   "outputs": [],
   "source": [
    "ss_price = StandardScaler()\n",
    "ss_feature = StandardScaler()\n",
    "features = [\"rating\", \"processor_speed\", \"fast_charging\", \"ram_capacity\",\n",
    "                 \"internal_memory\", \"screen_size\", \"primary_camera_front\", \"resolution_height\"]\n",
    "\n",
    "data[features] = ss_feature.fit_transform(data[features])\n",
    "# data[\"price\"] = ss_price.fit_transform(data[\"price\"].values.reshape(-1, 1))"
   ]
  },
  {
   "cell_type": "code",
   "execution_count": 24,
   "id": "2dadbeb9-7019-46b3-a3af-14d96361f482",
   "metadata": {},
   "outputs": [],
   "source": [
    "test = data.iloc[-10:]\n",
    "data = data.iloc[:-10]"
   ]
  },
  {
   "cell_type": "code",
   "execution_count": 25,
   "id": "2c0e912c-331e-489a-8f58-3ce95cf8131e",
   "metadata": {},
   "outputs": [],
   "source": [
    "y = data[\"price\"]\n",
    "X = data.drop(\"price\", axis=1)"
   ]
  },
  {
   "cell_type": "code",
   "execution_count": 26,
   "id": "dff968d7-8e94-4187-aff3-1fcacf83a9c6",
   "metadata": {},
   "outputs": [],
   "source": [
    "X_train, X_test, y_train, y_test = train_test_split(X, y, train_size=0.82, random_state=42)"
   ]
  },
  {
   "cell_type": "code",
   "execution_count": 27,
   "id": "a08122b1-f230-4e4b-b184-0e2f40fd9cc2",
   "metadata": {},
   "outputs": [
    {
     "name": "stdout",
     "output_type": "stream",
     "text": [
      "r2_score is: 0.41578418618291535\n",
      "Training score is: 0.979778018436038\n"
     ]
    }
   ],
   "source": [
    "model = RandomForestRegressor()\n",
    "model.fit(X_train, y_train)\n",
    "prediction = model.predict(X_test)\n",
    "score = r2_score(y_test, prediction)\n",
    "print(f\"r2_score is: {score}\")\n",
    "score_train = model.score(X_train, y_train)\n",
    "print(f\"Training score is: {score_train}\")"
   ]
  },
  {
   "cell_type": "code",
   "execution_count": 28,
   "id": "de8246df-9aaf-42ef-86a8-bc084a4baf74",
   "metadata": {},
   "outputs": [],
   "source": [
    "test_y = test[\"price\"]\n",
    "test_x = test.drop(\"price\", axis=1)"
   ]
  },
  {
   "cell_type": "code",
   "execution_count": 29,
   "id": "7fdf0822-afda-4d99-85bf-c6b7ddd70fa5",
   "metadata": {},
   "outputs": [],
   "source": [
    "preds = model.predict(test_x)"
   ]
  },
  {
   "cell_type": "code",
   "execution_count": 30,
   "id": "b99cbfae-7226-48bd-b5a9-70526646ad28",
   "metadata": {},
   "outputs": [],
   "source": [
    "# preds = pd.DataFrame(preds)"
   ]
  },
  {
   "cell_type": "code",
   "execution_count": 31,
   "id": "1eb25c48-633f-4c22-9b20-1f21b817f22a",
   "metadata": {},
   "outputs": [],
   "source": [
    "# preds_reverse = ss_price.inverse_transform(preds.values.reshape(-1, 1))"
   ]
  },
  {
   "cell_type": "code",
   "execution_count": 32,
   "id": "9a2e6585-5a0a-4156-bdd8-e4ace58100bc",
   "metadata": {},
   "outputs": [
    {
     "data": {
      "text/plain": [
       "0.9191995738476946"
      ]
     },
     "execution_count": 32,
     "metadata": {},
     "output_type": "execute_result"
    }
   ],
   "source": [
    "r2_score(test_y, preds)"
   ]
  },
  {
   "cell_type": "code",
   "execution_count": 33,
   "id": "53f588f3-e055-4cdd-a77a-238c4daa71f5",
   "metadata": {},
   "outputs": [
    {
     "data": {
      "text/plain": [
       "970      8720\n",
       "971     69990\n",
       "972      4787\n",
       "973     70990\n",
       "974    119990\n",
       "975     34990\n",
       "976     14990\n",
       "977     28990\n",
       "978     19990\n",
       "979     24990\n",
       "Name: price, dtype: int64"
      ]
     },
     "execution_count": 33,
     "metadata": {},
     "output_type": "execute_result"
    }
   ],
   "source": [
    "test_y"
   ]
  },
  {
   "cell_type": "code",
   "execution_count": 34,
   "id": "4df83131-10e7-4d98-8643-133ea59bb344",
   "metadata": {
    "scrolled": true
   },
   "outputs": [
    {
     "data": {
      "text/plain": [
       "[9494.09,\n",
       " 45878.47,\n",
       " 7246.72,\n",
       " 86613.57,\n",
       " 116078.79,\n",
       " 27812.55,\n",
       " 16244.903333333332,\n",
       " 29232.48,\n",
       " 27652.95,\n",
       " 25354.58]"
      ]
     },
     "execution_count": 34,
     "metadata": {},
     "output_type": "execute_result"
    }
   ],
   "source": [
    "list(preds)"
   ]
  },
  {
   "cell_type": "code",
   "execution_count": 35,
   "id": "b0c0cdc5-dc54-4fb2-a5af-2d72f6d8d00b",
   "metadata": {},
   "outputs": [],
   "source": [
    "# test_y_reverse = ss_price.inverse_transform(test_y.values.reshape(-1, 1))"
   ]
  },
  {
   "cell_type": "code",
   "execution_count": 36,
   "id": "34bc5635-c91e-41dd-8870-309a18212644",
   "metadata": {},
   "outputs": [],
   "source": [
    "# test_y_reverse"
   ]
  },
  {
   "cell_type": "code",
   "execution_count": 37,
   "id": "50a887f9-9c38-4ca6-85ae-f5632c78c4ac",
   "metadata": {},
   "outputs": [],
   "source": [
    "# preds_reverse"
   ]
  },
  {
   "cell_type": "code",
   "execution_count": 38,
   "id": "74422743-0cd5-4af9-8081-a59318fd9bec",
   "metadata": {},
   "outputs": [],
   "source": [
    "# r2_score(test_y_reverse, preds_reverse)"
   ]
  },
  {
   "cell_type": "code",
   "execution_count": null,
   "id": "a0a8d7d5-e4d7-4851-b1cb-f4fa9142b913",
   "metadata": {},
   "outputs": [],
   "source": []
  },
  {
   "cell_type": "code",
   "execution_count": null,
   "id": "bd79adc0-0c67-4ab0-80f6-f824d7ff2763",
   "metadata": {},
   "outputs": [],
   "source": []
  }
 ],
 "metadata": {
  "kernelspec": {
   "display_name": "Python 3 (ipykernel)",
   "language": "python",
   "name": "python3"
  },
  "language_info": {
   "codemirror_mode": {
    "name": "ipython",
    "version": 3
   },
   "file_extension": ".py",
   "mimetype": "text/x-python",
   "name": "python",
   "nbconvert_exporter": "python",
   "pygments_lexer": "ipython3",
   "version": "3.12.4"
  }
 },
 "nbformat": 4,
 "nbformat_minor": 5
}
