{
 "cells": [
  {
   "cell_type": "markdown",
   "id": "ab4131fb-8b73-4cac-968a-2140ab16e858",
   "metadata": {},
   "source": [
    "# Importing necessary libraries"
   ]
  },
  {
   "cell_type": "code",
   "execution_count": 1,
   "id": "a58e975b-dc01-4ffd-ac80-60e7699e0168",
   "metadata": {},
   "outputs": [],
   "source": [
    "import pandas as pd\n",
    "import numpy as np\n",
    "import matplotlib.pyplot as plt\n",
    "import seaborn as sns\n",
    "\n",
    "from sklearn.impute import SimpleImputer\n",
    "from sklearn.model_selection import train_test_split\n",
    "from sklearn.preprocessing import StandardScaler\n",
    "from sklearn.metrics import r2_score\n",
    "\n",
    "import statsmodels.api as sm\n",
    "from sklearn.linear_model import LinearRegression\n",
    "from sklearn.ensemble import RandomForestRegressor\n",
    "from sklearn.feature_selection import RFE\n",
    "from xgboost import XGBRegressor\n",
    "from statsmodels.stats.outliers_influence import variance_inflation_factor\n",
    "\n",
    "from scipy.stats import chi2_contingency\n",
    "\n",
    "import warnings\n",
    "warnings.filterwarnings(\"ignore\")"
   ]
  },
  {
   "cell_type": "markdown",
   "id": "e0ed5353-b5b9-4875-b4f5-18d139a4b5e6",
   "metadata": {},
   "source": [
    "# Reading the dataset"
   ]
  },
  {
   "cell_type": "code",
   "execution_count": 2,
   "id": "94ee007b-8117-4756-ae6f-cef0c55bcfa7",
   "metadata": {},
   "outputs": [
    {
     "data": {
      "text/html": [
       "<div>\n",
       "<style scoped>\n",
       "    .dataframe tbody tr th:only-of-type {\n",
       "        vertical-align: middle;\n",
       "    }\n",
       "\n",
       "    .dataframe tbody tr th {\n",
       "        vertical-align: top;\n",
       "    }\n",
       "\n",
       "    .dataframe thead th {\n",
       "        text-align: right;\n",
       "    }\n",
       "</style>\n",
       "<table border=\"1\" class=\"dataframe\">\n",
       "  <thead>\n",
       "    <tr style=\"text-align: right;\">\n",
       "      <th></th>\n",
       "      <th>brand_name</th>\n",
       "      <th>model</th>\n",
       "      <th>price</th>\n",
       "      <th>rating</th>\n",
       "      <th>has_5g</th>\n",
       "      <th>has_nfc</th>\n",
       "      <th>has_ir_blaster</th>\n",
       "      <th>processor_brand</th>\n",
       "      <th>num_cores</th>\n",
       "      <th>processor_speed</th>\n",
       "      <th>...</th>\n",
       "      <th>refresh_rate</th>\n",
       "      <th>num_rear_cameras</th>\n",
       "      <th>num_front_cameras</th>\n",
       "      <th>os</th>\n",
       "      <th>primary_camera_rear</th>\n",
       "      <th>primary_camera_front</th>\n",
       "      <th>extended_memory_available</th>\n",
       "      <th>extended_upto</th>\n",
       "      <th>resolution_width</th>\n",
       "      <th>resolution_height</th>\n",
       "    </tr>\n",
       "  </thead>\n",
       "  <tbody>\n",
       "    <tr>\n",
       "      <th>0</th>\n",
       "      <td>oneplus</td>\n",
       "      <td>OnePlus 11 5G</td>\n",
       "      <td>54999</td>\n",
       "      <td>89.0</td>\n",
       "      <td>True</td>\n",
       "      <td>True</td>\n",
       "      <td>False</td>\n",
       "      <td>snapdragon</td>\n",
       "      <td>8.0</td>\n",
       "      <td>3.2</td>\n",
       "      <td>...</td>\n",
       "      <td>120</td>\n",
       "      <td>3</td>\n",
       "      <td>1.0</td>\n",
       "      <td>android</td>\n",
       "      <td>50.0</td>\n",
       "      <td>16.0</td>\n",
       "      <td>0</td>\n",
       "      <td>NaN</td>\n",
       "      <td>1440</td>\n",
       "      <td>3216</td>\n",
       "    </tr>\n",
       "    <tr>\n",
       "      <th>1</th>\n",
       "      <td>oneplus</td>\n",
       "      <td>OnePlus Nord CE 2 Lite 5G</td>\n",
       "      <td>19989</td>\n",
       "      <td>81.0</td>\n",
       "      <td>True</td>\n",
       "      <td>False</td>\n",
       "      <td>False</td>\n",
       "      <td>snapdragon</td>\n",
       "      <td>8.0</td>\n",
       "      <td>2.2</td>\n",
       "      <td>...</td>\n",
       "      <td>120</td>\n",
       "      <td>3</td>\n",
       "      <td>1.0</td>\n",
       "      <td>android</td>\n",
       "      <td>64.0</td>\n",
       "      <td>16.0</td>\n",
       "      <td>1</td>\n",
       "      <td>1024.0</td>\n",
       "      <td>1080</td>\n",
       "      <td>2412</td>\n",
       "    </tr>\n",
       "    <tr>\n",
       "      <th>2</th>\n",
       "      <td>samsung</td>\n",
       "      <td>Samsung Galaxy A14 5G</td>\n",
       "      <td>16499</td>\n",
       "      <td>75.0</td>\n",
       "      <td>True</td>\n",
       "      <td>False</td>\n",
       "      <td>False</td>\n",
       "      <td>exynos</td>\n",
       "      <td>8.0</td>\n",
       "      <td>2.4</td>\n",
       "      <td>...</td>\n",
       "      <td>90</td>\n",
       "      <td>3</td>\n",
       "      <td>1.0</td>\n",
       "      <td>android</td>\n",
       "      <td>50.0</td>\n",
       "      <td>13.0</td>\n",
       "      <td>1</td>\n",
       "      <td>1024.0</td>\n",
       "      <td>1080</td>\n",
       "      <td>2408</td>\n",
       "    </tr>\n",
       "    <tr>\n",
       "      <th>3</th>\n",
       "      <td>motorola</td>\n",
       "      <td>Motorola Moto G62 5G</td>\n",
       "      <td>14999</td>\n",
       "      <td>81.0</td>\n",
       "      <td>True</td>\n",
       "      <td>False</td>\n",
       "      <td>False</td>\n",
       "      <td>snapdragon</td>\n",
       "      <td>8.0</td>\n",
       "      <td>2.2</td>\n",
       "      <td>...</td>\n",
       "      <td>120</td>\n",
       "      <td>3</td>\n",
       "      <td>1.0</td>\n",
       "      <td>android</td>\n",
       "      <td>50.0</td>\n",
       "      <td>16.0</td>\n",
       "      <td>1</td>\n",
       "      <td>1024.0</td>\n",
       "      <td>1080</td>\n",
       "      <td>2400</td>\n",
       "    </tr>\n",
       "    <tr>\n",
       "      <th>4</th>\n",
       "      <td>realme</td>\n",
       "      <td>Realme 10 Pro Plus</td>\n",
       "      <td>24999</td>\n",
       "      <td>82.0</td>\n",
       "      <td>True</td>\n",
       "      <td>False</td>\n",
       "      <td>False</td>\n",
       "      <td>dimensity</td>\n",
       "      <td>8.0</td>\n",
       "      <td>2.6</td>\n",
       "      <td>...</td>\n",
       "      <td>120</td>\n",
       "      <td>3</td>\n",
       "      <td>1.0</td>\n",
       "      <td>android</td>\n",
       "      <td>108.0</td>\n",
       "      <td>16.0</td>\n",
       "      <td>0</td>\n",
       "      <td>NaN</td>\n",
       "      <td>1080</td>\n",
       "      <td>2412</td>\n",
       "    </tr>\n",
       "  </tbody>\n",
       "</table>\n",
       "<p>5 rows × 26 columns</p>\n",
       "</div>"
      ],
      "text/plain": [
       "  brand_name                      model  price  rating  has_5g  has_nfc  \\\n",
       "0    oneplus              OnePlus 11 5G  54999    89.0    True     True   \n",
       "1    oneplus  OnePlus Nord CE 2 Lite 5G  19989    81.0    True    False   \n",
       "2    samsung      Samsung Galaxy A14 5G  16499    75.0    True    False   \n",
       "3   motorola       Motorola Moto G62 5G  14999    81.0    True    False   \n",
       "4     realme         Realme 10 Pro Plus  24999    82.0    True    False   \n",
       "\n",
       "   has_ir_blaster processor_brand  num_cores  processor_speed  ...  \\\n",
       "0           False      snapdragon        8.0              3.2  ...   \n",
       "1           False      snapdragon        8.0              2.2  ...   \n",
       "2           False          exynos        8.0              2.4  ...   \n",
       "3           False      snapdragon        8.0              2.2  ...   \n",
       "4           False       dimensity        8.0              2.6  ...   \n",
       "\n",
       "   refresh_rate  num_rear_cameras  num_front_cameras       os  \\\n",
       "0           120                 3                1.0  android   \n",
       "1           120                 3                1.0  android   \n",
       "2            90                 3                1.0  android   \n",
       "3           120                 3                1.0  android   \n",
       "4           120                 3                1.0  android   \n",
       "\n",
       "   primary_camera_rear  primary_camera_front  extended_memory_available  \\\n",
       "0                 50.0                  16.0                          0   \n",
       "1                 64.0                  16.0                          1   \n",
       "2                 50.0                  13.0                          1   \n",
       "3                 50.0                  16.0                          1   \n",
       "4                108.0                  16.0                          0   \n",
       "\n",
       "   extended_upto  resolution_width resolution_height  \n",
       "0            NaN              1440              3216  \n",
       "1         1024.0              1080              2412  \n",
       "2         1024.0              1080              2408  \n",
       "3         1024.0              1080              2400  \n",
       "4            NaN              1080              2412  \n",
       "\n",
       "[5 rows x 26 columns]"
      ]
     },
     "execution_count": 2,
     "metadata": {},
     "output_type": "execute_result"
    }
   ],
   "source": [
    "df= pd.read_csv(\"dataset.csv\")\n",
    "df.head()"
   ]
  },
  {
   "cell_type": "code",
   "execution_count": 3,
   "id": "9dc74088-a653-4eea-af6f-4ce5936cbc3c",
   "metadata": {},
   "outputs": [
    {
     "data": {
      "text/plain": [
       "(980, 26)"
      ]
     },
     "execution_count": 3,
     "metadata": {},
     "output_type": "execute_result"
    }
   ],
   "source": [
    "df.shape"
   ]
  },
  {
   "cell_type": "code",
   "execution_count": 4,
   "id": "fafbc286-1a6b-4ea3-8be4-6300a0e538c0",
   "metadata": {},
   "outputs": [
    {
     "name": "stdout",
     "output_type": "stream",
     "text": [
      "<class 'pandas.core.frame.DataFrame'>\n",
      "RangeIndex: 980 entries, 0 to 979\n",
      "Data columns (total 26 columns):\n",
      " #   Column                     Non-Null Count  Dtype  \n",
      "---  ------                     --------------  -----  \n",
      " 0   brand_name                 980 non-null    object \n",
      " 1   model                      980 non-null    object \n",
      " 2   price                      980 non-null    int64  \n",
      " 3   rating                     879 non-null    float64\n",
      " 4   has_5g                     980 non-null    bool   \n",
      " 5   has_nfc                    980 non-null    bool   \n",
      " 6   has_ir_blaster             980 non-null    bool   \n",
      " 7   processor_brand            960 non-null    object \n",
      " 8   num_cores                  974 non-null    float64\n",
      " 9   processor_speed            938 non-null    float64\n",
      " 10  battery_capacity           969 non-null    float64\n",
      " 11  fast_charging_available    980 non-null    int64  \n",
      " 12  fast_charging              769 non-null    float64\n",
      " 13  ram_capacity               980 non-null    float64\n",
      " 14  internal_memory            980 non-null    float64\n",
      " 15  screen_size                980 non-null    float64\n",
      " 16  refresh_rate               980 non-null    int64  \n",
      " 17  num_rear_cameras           980 non-null    int64  \n",
      " 18  num_front_cameras          976 non-null    float64\n",
      " 19  os                         966 non-null    object \n",
      " 20  primary_camera_rear        980 non-null    float64\n",
      " 21  primary_camera_front       975 non-null    float64\n",
      " 22  extended_memory_available  980 non-null    int64  \n",
      " 23  extended_upto              500 non-null    float64\n",
      " 24  resolution_width           980 non-null    int64  \n",
      " 25  resolution_height          980 non-null    int64  \n",
      "dtypes: bool(3), float64(12), int64(7), object(4)\n",
      "memory usage: 179.1+ KB\n"
     ]
    }
   ],
   "source": [
    "df.info()"
   ]
  },
  {
   "cell_type": "markdown",
   "id": "156bb90c-ad9c-4d32-ab08-b2445087ed7b",
   "metadata": {},
   "source": [
    "# Data Preprocessing "
   ]
  },
  {
   "cell_type": "markdown",
   "id": "2dc93d1d-1466-4960-b9fa-a90b1a855605",
   "metadata": {},
   "source": [
    "### Handling the missing values"
   ]
  },
  {
   "cell_type": "code",
   "execution_count": 5,
   "id": "9cba5f19-1b91-4589-ba79-7bfc747b871d",
   "metadata": {},
   "outputs": [],
   "source": [
    "# df.isnull().sum()*100/df.shape[0]"
   ]
  },
  {
   "cell_type": "markdown",
   "id": "5a333418-05dd-4c6d-a455-9836342ba7b4",
   "metadata": {},
   "source": [
    "These columns have missing values:\n",
    "* rating\n",
    "* processor_brand\n",
    "* num_cores\n",
    "* processor_speed\n",
    "* battery_capacity\n",
    "* fast_charging\n",
    "* num_front_cameras\n",
    "* os\n",
    "* primary_camera_front\n",
    "* extended_upto"
   ]
  },
  {
   "cell_type": "markdown",
   "id": "1a08ab08-96c7-4c93-847a-d0b2c5a04fe6",
   "metadata": {},
   "source": [
    "#### As because extended_auto column has approximately 49% missing values, we are dropping it."
   ]
  },
  {
   "cell_type": "code",
   "execution_count": 6,
   "id": "20923fe1-1428-4851-bd38-9f7d0d90d013",
   "metadata": {},
   "outputs": [],
   "source": [
    "df.drop(\"extended_upto\", axis=1, inplace=True)"
   ]
  },
  {
   "cell_type": "code",
   "execution_count": 7,
   "id": "b5a7daf6-52e8-47f9-baa7-c8515a1abd2d",
   "metadata": {},
   "outputs": [],
   "source": [
    "imputer_mean = SimpleImputer(strategy=\"mean\")\n",
    "imputer_median = SimpleImputer(strategy=\"median\")\n",
    "imputer_mode = SimpleImputer(strategy=\"most_frequent\")\n",
    "\n",
    "df[\"rating\"] = imputer_mean.fit_transform(df[\"rating\"].values.reshape(-1, 1))\n",
    "df[\"processor_brand\"] = imputer_mode.fit_transform(df[\"processor_brand\"].values.reshape(-1, 1)).reshape(-1)\n",
    "df[\"num_cores\"] = imputer_median.fit_transform(df[\"num_cores\"].values.reshape(-1, 1))\n",
    "df[\"processor_speed\"] = imputer_mean.fit_transform(df[\"processor_speed\"].values.reshape(-1, 1))\n",
    "df[\"battery_capacity\"] = imputer_mean.fit_transform(df[\"battery_capacity\"].values.reshape(-1, 1))\n",
    "df[\"fast_charging\"] = imputer_mean.fit_transform(df[\"fast_charging\"].values.reshape(-1, 1))\n",
    "df[\"num_front_cameras\"] = imputer_median.fit_transform(df[\"num_front_cameras\"].values.reshape(-1, 1))\n",
    "df[\"os\"] = imputer_mode.fit_transform(df[\"os\"].values.reshape(-1, 1)).reshape(-1)\n",
    "df[\"primary_camera_front\"] = imputer_median.fit_transform(df[\"primary_camera_front\"].values.reshape(-1, 1))"
   ]
  },
  {
   "cell_type": "code",
   "execution_count": 8,
   "id": "b030ce25-faf6-4660-a7c3-3d38a78b1c42",
   "metadata": {
    "scrolled": true
   },
   "outputs": [],
   "source": [
    "# df.isnull().sum()"
   ]
  },
  {
   "cell_type": "code",
   "execution_count": 9,
   "id": "51a7f139-7733-4d29-82f5-5c9554f06be8",
   "metadata": {},
   "outputs": [],
   "source": [
    "df.drop(\"model\", axis=1, inplace=True)"
   ]
  },
  {
   "cell_type": "markdown",
   "id": "b16a5f5b-538d-4e88-a0cd-c277a0f06c4d",
   "metadata": {},
   "source": [
    "### Exploratory Data Analysis"
   ]
  },
  {
   "cell_type": "code",
   "execution_count": 10,
   "id": "271f3806-7dcb-4921-bbf0-27a34923009f",
   "metadata": {},
   "outputs": [],
   "source": [
    "df.drop(df[df[\"price\"]==650000].index, axis=0, inplace=True)"
   ]
  },
  {
   "cell_type": "code",
   "execution_count": 11,
   "id": "f0debbfa-ec8e-4df6-b800-788f5eb4614a",
   "metadata": {},
   "outputs": [],
   "source": [
    "df[\"brand_name\"] = df[\"brand_name\"].replace({\"oneplus\":\"oppo\",\n",
    "                                             \"realme\":\"xiaomi\", \n",
    "                                             \"redmi\":\"xiaomi\",\n",
    "                                             \"poco\":\"xiaomi\"})"
   ]
  },
  {
   "cell_type": "code",
   "execution_count": 12,
   "id": "330d7c5a-b8d1-42d9-908c-5d539a510525",
   "metadata": {},
   "outputs": [],
   "source": [
    "df[\"fast_charging_available\"] = df[\"fast_charging_available\"].astype(\"bool\")\n",
    "df[\"extended_memory_available\"] = df[\"extended_memory_available\"].astype(\"bool\")"
   ]
  },
  {
   "cell_type": "code",
   "execution_count": 13,
   "id": "681e03e8-6512-45d4-8834-631e39eed313",
   "metadata": {},
   "outputs": [],
   "source": [
    "num_col = df.select_dtypes(exclude=[\"object\", \"bool\"]).columns\n",
    "cat_col = df.select_dtypes(include=[\"object\", \"bool\"]).columns"
   ]
  },
  {
   "cell_type": "code",
   "execution_count": 14,
   "id": "dd60abad-73a4-430f-8741-a6607ac1777c",
   "metadata": {},
   "outputs": [
    {
     "data": {
      "text/plain": [
       "Index(['price', 'rating', 'num_cores', 'processor_speed', 'battery_capacity',\n",
       "       'fast_charging', 'ram_capacity', 'internal_memory', 'screen_size',\n",
       "       'refresh_rate', 'num_rear_cameras', 'num_front_cameras',\n",
       "       'primary_camera_rear', 'primary_camera_front', 'resolution_width',\n",
       "       'resolution_height'],\n",
       "      dtype='object')"
      ]
     },
     "execution_count": 14,
     "metadata": {},
     "output_type": "execute_result"
    }
   ],
   "source": [
    "num_col"
   ]
  },
  {
   "cell_type": "code",
   "execution_count": 15,
   "id": "8d8731c3-b849-420b-bcb7-677c469df1de",
   "metadata": {},
   "outputs": [
    {
     "data": {
      "text/plain": [
       "Index(['brand_name', 'has_5g', 'has_nfc', 'has_ir_blaster', 'processor_brand',\n",
       "       'fast_charging_available', 'os', 'extended_memory_available'],\n",
       "      dtype='object')"
      ]
     },
     "execution_count": 15,
     "metadata": {},
     "output_type": "execute_result"
    }
   ],
   "source": [
    "cat_col"
   ]
  },
  {
   "cell_type": "code",
   "execution_count": 16,
   "id": "97a11dc9-e7ef-42cf-9e8f-b44cdf673aca",
   "metadata": {},
   "outputs": [
    {
     "data": {
      "image/png": "[encoded data removed]",
      "text/plain": [
       "<Figure size 1000x600 with 1 Axes>"
      ]
     },
     "metadata": {},
     "output_type": "display_data"
    }
   ],
   "source": [
    "q1 = np.quantile(df[\"price\"], 0.25)\n",
    "q3 = np.quantile(df[\"price\"], 0.75)\n",
    "iqr = q3 - q1\n",
    "limit = 1.5 * iqr\n",
    "lower, upper = q1-limit, q3+limit\n",
    "\n",
    "df_wth = df[(df[\"price\"]>lower) & (df[\"price\"]<upper)]\n",
    "plt.figure(figsize=(10, 6))\n",
    "sns.boxplot(data=df_wth[\"price\"], orient=\"v\")\n",
    "plt.title(\"Outlier Distibution Plot\")\n",
    "plt.show()"
   ]
  },
  {
   "cell_type": "code",
   "execution_count": 17,
   "id": "5b8efb8c-6c99-4ee4-8c04-9e789e40d31e",
   "metadata": {},
   "outputs": [],
   "source": [
    "# df[\"brand_name\"].unique()"
   ]
  },
  {
   "cell_type": "code",
   "execution_count": 18,
   "id": "dd0e5c19-8d8c-485f-87af-6eb3f21c25d2",
   "metadata": {},
   "outputs": [],
   "source": [
    "#Checking duplicates\n",
    "df.drop_duplicates(inplace=True)"
   ]
  },
  {
   "cell_type": "code",
   "execution_count": 19,
   "id": "47fd2e0f-d8a1-479b-affa-d81f10167b0e",
   "metadata": {},
   "outputs": [],
   "source": [
    "# plt.figure(figsize=(10, 6))\n",
    "# ax = df[\"brand_name\"].value_counts().plot(kind=\"bar\", stacked=True)\n",
    "# plt.title(\"Distribution according to brand name\")\n",
    "# plt.show()"
   ]
  },
  {
   "cell_type": "markdown",
   "id": "685b64e5-391c-4915-ae32-94b7e7892a63",
   "metadata": {},
   "source": [
    "It can be observed that Xiaomi and Samsung are mostly preferable smartphones followed by Vivo. "
   ]
  },
  {
   "cell_type": "code",
   "execution_count": 20,
   "id": "5479f2dc-6973-45ca-91bd-a19dc50ea6ad",
   "metadata": {},
   "outputs": [],
   "source": [
    "# plt.figure(figsize=(10, 6))\n",
    "# plt.title(\"Price Distribution Plot\")\n",
    "# sns.distplot(df[\"price\"])"
   ]
  },
  {
   "cell_type": "code",
   "execution_count": 21,
   "id": "c4986bd9-903a-4eee-9ca9-05f40e42ff62",
   "metadata": {},
   "outputs": [],
   "source": [
    "subset = df.iloc[np.arange(0, 974, 5)]"
   ]
  },
  {
   "cell_type": "code",
   "execution_count": 22,
   "id": "42c74f0c-d556-4cac-91f9-ebea75e5a057",
   "metadata": {
    "scrolled": true
   },
   "outputs": [],
   "source": [
    "# plt.figure(figsize=(100, 50))\n",
    "# sns.pairplot(subset[num_col])\n",
    "# plt.title(\"Relationship between numerical columns\")\n",
    "# plt.show()"
   ]
  },
  {
   "cell_type": "markdown",
   "id": "16ab52e9-88b7-4f98-8a10-4bbb8c2dc002",
   "metadata": {},
   "source": [
    "From the pairplots, we can observe that the following columns have higher correlation with the target column. \n",
    "P.S. I have to note that, pairplots have been designed according to undersampled dataset(subset)\n",
    "* rating\n",
    "* processor_speed\n",
    "* fast_charging_available\n",
    "* fast_charging\n",
    "* ram_capacity\n",
    "* internal_memory\n",
    "* screen_size\n",
    "* primary_camera_front\n",
    "* resolution_height"
   ]
  },
  {
   "cell_type": "code",
   "execution_count": 23,
   "id": "a1bc9a63-e6de-4697-979a-577d730d8ded",
   "metadata": {},
   "outputs": [
    {
     "data": {
      "text/plain": [
       "price                   1.000000\n",
       "rating                  0.397198\n",
       "num_cores              -0.118152\n",
       "processor_speed         0.661848\n",
       "battery_capacity       -0.085786\n",
       "fast_charging           0.271713\n",
       "ram_capacity            0.529061\n",
       "internal_memory         0.708211\n",
       "screen_size             0.255456\n",
       "refresh_rate            0.327847\n",
       "num_rear_cameras        0.264682\n",
       "num_front_cameras       0.133904\n",
       "primary_camera_rear     0.133649\n",
       "primary_camera_front    0.217341\n",
       "resolution_width        0.468286\n",
       "resolution_height       0.530225\n",
       "Name: price, dtype: float64"
      ]
     },
     "execution_count": 23,
     "metadata": {},
     "output_type": "execute_result"
    }
   ],
   "source": [
    "subset[num_col].corr()[\"price\"]"
   ]
  },
  {
   "cell_type": "code",
   "execution_count": 24,
   "id": "cb56ebf9-5951-4237-89eb-c0adef9253d0",
   "metadata": {},
   "outputs": [
    {
     "data": {
      "text/plain": [
       "price                   1.000000\n",
       "rating                  0.334652\n",
       "num_cores              -0.057415\n",
       "processor_speed         0.555791\n",
       "battery_capacity       -0.135213\n",
       "fast_charging           0.224014\n",
       "ram_capacity            0.476091\n",
       "internal_memory         0.656202\n",
       "screen_size             0.231385\n",
       "refresh_rate            0.301205\n",
       "num_rear_cameras        0.186574\n",
       "num_front_cameras       0.131972\n",
       "primary_camera_rear     0.126608\n",
       "primary_camera_front    0.207353\n",
       "resolution_width        0.392030\n",
       "resolution_height       0.418064\n",
       "Name: price, dtype: float64"
      ]
     },
     "execution_count": 24,
     "metadata": {},
     "output_type": "execute_result"
    }
   ],
   "source": [
    "df[num_col].corr()[\"price\"]"
   ]
  },
  {
   "cell_type": "code",
   "execution_count": 25,
   "id": "d35a4f27-0ea2-410d-bca3-48fdd8e9a59d",
   "metadata": {},
   "outputs": [],
   "source": [
    "# correlation_matrix = df[num_col].corr()\n",
    "# plt.figure(figsize=(15, 8))\n",
    "# sns.heatmap(correlation_matrix, annot=True)\n",
    "# plt.title(\"Correlation Plot\")\n",
    "# plt.show()"
   ]
  },
  {
   "cell_type": "code",
   "execution_count": 26,
   "id": "015d9bd2-3938-49b0-90ac-9cd45ac8ac87",
   "metadata": {},
   "outputs": [],
   "source": [
    "# for i in range (len(cat_col)):\n",
    "#     for j in range (i+1, len(cat_col)):\n",
    "#         cont_table = pd.crosstab(df[cat_col[i]], df[cat_col[j]])\n",
    "#         chi2, p, dof, ex = chi2_contingency(cont_table)\n",
    "#         print(f\"Chi-square test between {cat_col[i]} and {cat_col[j]}: p-value = {p}\")"
   ]
  },
  {
   "cell_type": "code",
   "execution_count": 27,
   "id": "04df40fb-6931-4651-94d5-70d50d343468",
   "metadata": {},
   "outputs": [],
   "source": [
    "# for col in cat_col:\n",
    "#     plt.figure(figsize=(10, 6))\n",
    "#     sns.boxplot(x=subset[col], y=subset[\"price\"], orient = \"v\", data=subset)\n",
    "#     plt.xticks(rotation=90)\n",
    "#     plt.title(f\"Correlation between {col} and Price column\")\n",
    "#     plt.show()"
   ]
  },
  {
   "cell_type": "markdown",
   "id": "554f00e3-f104-40b1-8262-c78d3859690f",
   "metadata": {},
   "source": [
    "From boxplots, we can observe that the following columns hava important relation with the price columns:\n",
    "* brand_name\n",
    "* has_5g\n",
    "* has_nfc\n",
    "* processor_brand\n",
    "* os\n",
    "* extended_memory_available"
   ]
  },
  {
   "cell_type": "markdown",
   "id": "d42af5c8-0553-4cdf-9a09-6b9723b1099d",
   "metadata": {},
   "source": [
    "### Column Generation "
   ]
  },
  {
   "cell_type": "code",
   "execution_count": 28,
   "id": "e720c47a-0d1e-49ec-aab6-a9da48b2c85d",
   "metadata": {},
   "outputs": [],
   "source": [
    "df_copy = df.copy()\n",
    "temp = df_copy.groupby([\"brand_name\"])[\"price\"].mean()\n",
    "df_copy = df_copy.merge(temp.reset_index(), how=\"left\", on=\"brand_name\")"
   ]
  },
  {
   "cell_type": "code",
   "execution_count": 29,
   "id": "4e6a26cf-d09f-4a08-96dc-5a1ecaab4eef",
   "metadata": {},
   "outputs": [],
   "source": [
    "dct = {}\n",
    "for i in range (df_copy[\"price_y\"].nunique()): \n",
    "    if df_copy[\"brand_name\"].unique()[i] not in dct:\n",
    "        dct[df_copy[\"brand_name\"].unique()[i]] = df_copy[\"price_y\"].unique()[i]"
   ]
  },
  {
   "cell_type": "code",
   "execution_count": 30,
   "id": "867331b4-8498-4dc0-b815-60aed506f576",
   "metadata": {},
   "outputs": [],
   "source": [
    "bins = [0, 25000, 50000, 130000]\n",
    "label = [\"budget_friendly\", \"middle_range\", \"expensive\"]\n",
    "df[\"category\"] = pd.cut(df_copy[\"price_y\"], bins, right=False, labels=label)"
   ]
  },
  {
   "cell_type": "code",
   "execution_count": 31,
   "id": "4a3f2c31-1c81-4279-8a2a-cca72d3821c2",
   "metadata": {},
   "outputs": [
    {
     "data": {
      "text/html": [
       "<div>\n",
       "<style scoped>\n",
       "    .dataframe tbody tr th:only-of-type {\n",
       "        vertical-align: middle;\n",
       "    }\n",
       "\n",
       "    .dataframe tbody tr th {\n",
       "        vertical-align: top;\n",
       "    }\n",
       "\n",
       "    .dataframe thead th {\n",
       "        text-align: right;\n",
       "    }\n",
       "</style>\n",
       "<table border=\"1\" class=\"dataframe\">\n",
       "  <thead>\n",
       "    <tr style=\"text-align: right;\">\n",
       "      <th></th>\n",
       "      <th>brand_name</th>\n",
       "      <th>price</th>\n",
       "      <th>rating</th>\n",
       "      <th>has_5g</th>\n",
       "      <th>has_nfc</th>\n",
       "      <th>has_ir_blaster</th>\n",
       "      <th>processor_brand</th>\n",
       "      <th>num_cores</th>\n",
       "      <th>processor_speed</th>\n",
       "      <th>battery_capacity</th>\n",
       "      <th>...</th>\n",
       "      <th>refresh_rate</th>\n",
       "      <th>num_rear_cameras</th>\n",
       "      <th>num_front_cameras</th>\n",
       "      <th>os</th>\n",
       "      <th>primary_camera_rear</th>\n",
       "      <th>primary_camera_front</th>\n",
       "      <th>extended_memory_available</th>\n",
       "      <th>resolution_width</th>\n",
       "      <th>resolution_height</th>\n",
       "      <th>category</th>\n",
       "    </tr>\n",
       "  </thead>\n",
       "  <tbody>\n",
       "    <tr>\n",
       "      <th>0</th>\n",
       "      <td>oppo</td>\n",
       "      <td>54999</td>\n",
       "      <td>89.0</td>\n",
       "      <td>True</td>\n",
       "      <td>True</td>\n",
       "      <td>False</td>\n",
       "      <td>snapdragon</td>\n",
       "      <td>8.0</td>\n",
       "      <td>3.2</td>\n",
       "      <td>5000.0</td>\n",
       "      <td>...</td>\n",
       "      <td>120</td>\n",
       "      <td>3</td>\n",
       "      <td>1.0</td>\n",
       "      <td>android</td>\n",
       "      <td>50.0</td>\n",
       "      <td>16.0</td>\n",
       "      <td>False</td>\n",
       "      <td>1440</td>\n",
       "      <td>3216</td>\n",
       "      <td>middle_range</td>\n",
       "    </tr>\n",
       "    <tr>\n",
       "      <th>1</th>\n",
       "      <td>oppo</td>\n",
       "      <td>19989</td>\n",
       "      <td>81.0</td>\n",
       "      <td>True</td>\n",
       "      <td>False</td>\n",
       "      <td>False</td>\n",
       "      <td>snapdragon</td>\n",
       "      <td>8.0</td>\n",
       "      <td>2.2</td>\n",
       "      <td>5000.0</td>\n",
       "      <td>...</td>\n",
       "      <td>120</td>\n",
       "      <td>3</td>\n",
       "      <td>1.0</td>\n",
       "      <td>android</td>\n",
       "      <td>64.0</td>\n",
       "      <td>16.0</td>\n",
       "      <td>True</td>\n",
       "      <td>1080</td>\n",
       "      <td>2412</td>\n",
       "      <td>middle_range</td>\n",
       "    </tr>\n",
       "    <tr>\n",
       "      <th>2</th>\n",
       "      <td>samsung</td>\n",
       "      <td>16499</td>\n",
       "      <td>75.0</td>\n",
       "      <td>True</td>\n",
       "      <td>False</td>\n",
       "      <td>False</td>\n",
       "      <td>exynos</td>\n",
       "      <td>8.0</td>\n",
       "      <td>2.4</td>\n",
       "      <td>5000.0</td>\n",
       "      <td>...</td>\n",
       "      <td>90</td>\n",
       "      <td>3</td>\n",
       "      <td>1.0</td>\n",
       "      <td>android</td>\n",
       "      <td>50.0</td>\n",
       "      <td>13.0</td>\n",
       "      <td>True</td>\n",
       "      <td>1080</td>\n",
       "      <td>2408</td>\n",
       "      <td>middle_range</td>\n",
       "    </tr>\n",
       "    <tr>\n",
       "      <th>3</th>\n",
       "      <td>motorola</td>\n",
       "      <td>14999</td>\n",
       "      <td>81.0</td>\n",
       "      <td>True</td>\n",
       "      <td>False</td>\n",
       "      <td>False</td>\n",
       "      <td>snapdragon</td>\n",
       "      <td>8.0</td>\n",
       "      <td>2.2</td>\n",
       "      <td>5000.0</td>\n",
       "      <td>...</td>\n",
       "      <td>120</td>\n",
       "      <td>3</td>\n",
       "      <td>1.0</td>\n",
       "      <td>android</td>\n",
       "      <td>50.0</td>\n",
       "      <td>16.0</td>\n",
       "      <td>True</td>\n",
       "      <td>1080</td>\n",
       "      <td>2400</td>\n",
       "      <td>budget_friendly</td>\n",
       "    </tr>\n",
       "    <tr>\n",
       "      <th>4</th>\n",
       "      <td>xiaomi</td>\n",
       "      <td>24999</td>\n",
       "      <td>82.0</td>\n",
       "      <td>True</td>\n",
       "      <td>False</td>\n",
       "      <td>False</td>\n",
       "      <td>dimensity</td>\n",
       "      <td>8.0</td>\n",
       "      <td>2.6</td>\n",
       "      <td>5000.0</td>\n",
       "      <td>...</td>\n",
       "      <td>120</td>\n",
       "      <td>3</td>\n",
       "      <td>1.0</td>\n",
       "      <td>android</td>\n",
       "      <td>108.0</td>\n",
       "      <td>16.0</td>\n",
       "      <td>False</td>\n",
       "      <td>1080</td>\n",
       "      <td>2412</td>\n",
       "      <td>budget_friendly</td>\n",
       "    </tr>\n",
       "  </tbody>\n",
       "</table>\n",
       "<p>5 rows × 25 columns</p>\n",
       "</div>"
      ],
      "text/plain": [
       "  brand_name  price  rating  has_5g  has_nfc  has_ir_blaster processor_brand  \\\n",
       "0       oppo  54999    89.0    True     True           False      snapdragon   \n",
       "1       oppo  19989    81.0    True    False           False      snapdragon   \n",
       "2    samsung  16499    75.0    True    False           False          exynos   \n",
       "3   motorola  14999    81.0    True    False           False      snapdragon   \n",
       "4     xiaomi  24999    82.0    True    False           False       dimensity   \n",
       "\n",
       "   num_cores  processor_speed  battery_capacity  ...  refresh_rate  \\\n",
       "0        8.0              3.2            5000.0  ...           120   \n",
       "1        8.0              2.2            5000.0  ...           120   \n",
       "2        8.0              2.4            5000.0  ...            90   \n",
       "3        8.0              2.2            5000.0  ...           120   \n",
       "4        8.0              2.6            5000.0  ...           120   \n",
       "\n",
       "   num_rear_cameras  num_front_cameras       os  primary_camera_rear  \\\n",
       "0                 3                1.0  android                 50.0   \n",
       "1                 3                1.0  android                 64.0   \n",
       "2                 3                1.0  android                 50.0   \n",
       "3                 3                1.0  android                 50.0   \n",
       "4                 3                1.0  android                108.0   \n",
       "\n",
       "   primary_camera_front  extended_memory_available  resolution_width  \\\n",
       "0                  16.0                      False              1440   \n",
       "1                  16.0                       True              1080   \n",
       "2                  13.0                       True              1080   \n",
       "3                  16.0                       True              1080   \n",
       "4                  16.0                      False              1080   \n",
       "\n",
       "  resolution_height         category  \n",
       "0              3216     middle_range  \n",
       "1              2412     middle_range  \n",
       "2              2408     middle_range  \n",
       "3              2400  budget_friendly  \n",
       "4              2412  budget_friendly  \n",
       "\n",
       "[5 rows x 25 columns]"
      ]
     },
     "execution_count": 31,
     "metadata": {},
     "output_type": "execute_result"
    }
   ],
   "source": [
    "df.head()"
   ]
  },
  {
   "cell_type": "markdown",
   "id": "d049f88a-2f8e-4d63-aec1-e1a1ee388f09",
   "metadata": {},
   "source": [
    "### Seperating Necessary columns"
   ]
  },
  {
   "cell_type": "code",
   "execution_count": 32,
   "id": "e9b73344-3704-423c-9a03-d84a33d0d435",
   "metadata": {},
   "outputs": [],
   "source": [
    "necessary_col = [\"price\", \"rating\", \"processor_speed\", \"fast_charging\", \"ram_capacity\",\n",
    "                 \"internal_memory\", \"screen_size\", \"primary_camera_front\", \"resolution_height\",\n",
    "                \n",
    "                \"brand_name\", \"has_5g\", \"has_nfc\", \"fast_charging_available\", \"processor_brand\", \"os\",\n",
    "                 \"extended_memory_available\", \"category\"]"
   ]
  },
  {
   "cell_type": "code",
   "execution_count": 33,
   "id": "78e34eeb-2fa0-4868-aa80-f23e2fd4835b",
   "metadata": {},
   "outputs": [],
   "source": [
    "data = df[necessary_col]"
   ]
  },
  {
   "cell_type": "code",
   "execution_count": 34,
   "id": "208c746a-da59-4892-b691-aa9563724055",
   "metadata": {},
   "outputs": [],
   "source": [
    "necessary_num_col = [\"price\", \"rating\", \"processor_speed\", \"fast_charging\", \"ram_capacity\",\n",
    "                 \"internal_memory\", \"screen_size\", \"primary_camera_front\", \"resolution_height\"]"
   ]
  },
  {
   "cell_type": "code",
   "execution_count": 35,
   "id": "4f8b46f6-ea49-422c-a02e-dab11f6cd00d",
   "metadata": {},
   "outputs": [],
   "source": [
    "necessary_cat_col = [\"brand_name\", \"has_5g\", \"has_nfc\", \"fast_charging_available\", \"processor_brand\", \"os\",\n",
    "                 \"extended_memory_available\", \"category\"]"
   ]
  },
  {
   "cell_type": "markdown",
   "id": "d007b0a4-f316-4fca-af33-5a00350f1531",
   "metadata": {},
   "source": [
    "### Encoding "
   ]
  },
  {
   "cell_type": "code",
   "execution_count": 36,
   "id": "eb962dcf-0d18-403b-b6b6-cb4b8db5960e",
   "metadata": {},
   "outputs": [],
   "source": [
    "dummies = pd.get_dummies(data[necessary_cat_col], drop_first=True, dtype=\"int64\")"
   ]
  },
  {
   "cell_type": "code",
   "execution_count": 37,
   "id": "8141619c-df1d-458f-960e-a64d568d16b9",
   "metadata": {},
   "outputs": [
    {
     "data": {
      "text/plain": [
       "(975, 60)"
      ]
     },
     "execution_count": 37,
     "metadata": {},
     "output_type": "execute_result"
    }
   ],
   "source": [
    "dummies.shape"
   ]
  },
  {
   "cell_type": "code",
   "execution_count": 38,
   "id": "6d3a73d6-c257-463e-8d73-b5887bdc2bfe",
   "metadata": {},
   "outputs": [
    {
     "data": {
      "text/plain": [
       "(975, 77)"
      ]
     },
     "execution_count": 38,
     "metadata": {},
     "output_type": "execute_result"
    }
   ],
   "source": [
    "data = pd.concat([data, dummies], axis=1)\n",
    "data.shape"
   ]
  },
  {
   "cell_type": "code",
   "execution_count": 39,
   "id": "31f67212-e342-4cbd-ba5e-49f194643b9d",
   "metadata": {},
   "outputs": [
    {
     "data": {
      "text/plain": [
       "(975, 65)"
      ]
     },
     "execution_count": 39,
     "metadata": {},
     "output_type": "execute_result"
    }
   ],
   "source": [
    "data.drop(necessary_cat_col, axis=1, inplace=True)\n",
    "data.shape"
   ]
  },
  {
   "cell_type": "markdown",
   "id": "d995a07c-25f4-4f78-8fff-39e00e71c8ae",
   "metadata": {},
   "source": [
    "### Splitting training and test datasets"
   ]
  },
  {
   "cell_type": "code",
   "execution_count": 40,
   "id": "497c1dd7-a486-4b2d-8163-4be66209d4c3",
   "metadata": {},
   "outputs": [],
   "source": [
    "np.random.seed(0)\n",
    "data_train, data_test = train_test_split(data, train_size= 0.75, random_state=42)"
   ]
  },
  {
   "cell_type": "markdown",
   "id": "f5a5688b-1539-400f-843a-5ff183eab7df",
   "metadata": {},
   "source": [
    "### Scaling "
   ]
  },
  {
   "cell_type": "code",
   "execution_count": 41,
   "id": "8d0fc747-74c0-4c51-be91-5535a0d862d3",
   "metadata": {},
   "outputs": [],
   "source": [
    "ss = StandardScaler()\n",
    "data_train[necessary_num_col] = ss.fit_transform(data_train[necessary_num_col])"
   ]
  },
  {
   "cell_type": "code",
   "execution_count": 42,
   "id": "e0bb476e-5be9-4f07-a578-698535a5d602",
   "metadata": {},
   "outputs": [],
   "source": [
    "y_train = data_train[\"price\"]\n",
    "X_train = data_train.drop(\"price\", axis=1)"
   ]
  },
  {
   "cell_type": "markdown",
   "id": "9a1f0216-a473-40b2-a21e-2546ebbb86ed",
   "metadata": {},
   "source": [
    "# Model Creation "
   ]
  },
  {
   "cell_type": "code",
   "execution_count": 43,
   "id": "18e04c5a-dbf6-4c43-b7ee-286b290ba904",
   "metadata": {},
   "outputs": [],
   "source": [
    "test = data.iloc[-5:]\n",
    "data = data.iloc[:-5]"
   ]
  },
  {
   "cell_type": "code",
   "execution_count": 44,
   "id": "e0689d93-67dc-4626-a263-6be1a2d68731",
   "metadata": {},
   "outputs": [],
   "source": [
    "y = data[\"price\"]\n",
    "X = data.drop(\"price\", axis=1)"
   ]
  },
  {
   "cell_type": "code",
   "execution_count": 45,
   "id": "94d6a669-c075-4f02-8990-7561f2f6d9b0",
   "metadata": {},
   "outputs": [],
   "source": [
    "necessary_num_col.remove(\"price\")"
   ]
  },
  {
   "cell_type": "code",
   "execution_count": 46,
   "id": "119b395e-f312-4b92-aac1-7c732db69fc6",
   "metadata": {},
   "outputs": [],
   "source": [
    "X[necessary_num_col] = ss.fit_transform(X[necessary_num_col])"
   ]
  },
  {
   "cell_type": "code",
   "execution_count": 47,
   "id": "45a18494-10bb-46f4-baee-187cf5929850",
   "metadata": {},
   "outputs": [
    {
     "name": "stdout",
     "output_type": "stream",
     "text": [
      "R-squared with Polynomial Features: 0.8673515801858902\n"
     ]
    }
   ],
   "source": [
    "from sklearn.preprocessing import PolynomialFeatures\n",
    "\n",
    "# Create polynomial features\n",
    "poly = PolynomialFeatures(degree=2, interaction_only=True, include_bias=False)\n",
    "X_poly = poly.fit_transform(X)\n",
    "\n",
    "# Train-test split on polynomial features\n",
    "X_train_poly, X_test_poly, y_train, y_test = train_test_split(X_poly, y, test_size=0.2, random_state=42)\n",
    "\n",
    "# Train a linear regression model on polynomial features\n",
    "model = RandomForestRegressor()\n",
    "model.fit(X_train_poly, y_train)\n",
    "y_pred_poly = model.predict(X_test_poly)\n",
    "\n",
    "# Calculate R-squared for polynomial features\n",
    "# r2_poly = model.score(X_test_poly, y_test)\n",
    "r2_orig = r2_score(y_test, y_pred_poly)\n",
    "print(f'R-squared with Polynomial Features: {r2_orig}')\n"
   ]
  },
  {
   "cell_type": "code",
   "execution_count": 71,
   "id": "edf84832-ed6a-4b9b-bb7c-b4925a8aa110",
   "metadata": {},
   "outputs": [
    {
     "ename": "NameError",
     "evalue": "name 'col_sup' is not defined",
     "output_type": "error",
     "traceback": [
      "\u001b[0;31m---------------------------------------------------------------------------\u001b[0m",
      "\u001b[0;31mNameError\u001b[0m                                 Traceback (most recent call last)",
      "Cell \u001b[0;32mIn[71], line 1\u001b[0m\n\u001b[0;32m----> 1\u001b[0m data_rfe \u001b[38;5;241m=\u001b[39m data[col_sup]\n\u001b[1;32m      2\u001b[0m data_poly \u001b[38;5;241m=\u001b[39m poly\u001b[38;5;241m.\u001b[39mfit_transform(data_rfe)\n\u001b[1;32m      4\u001b[0m X_train_rfe_poly, X_test_rfe_poly, y_train, y_test \u001b[38;5;241m=\u001b[39m train_test_split(data_poly, y, train_size\u001b[38;5;241m=\u001b[39m\u001b[38;5;241m0.75\u001b[39m, random_state\u001b[38;5;241m=\u001b[39m\u001b[38;5;241m42\u001b[39m)\n",
      "\u001b[0;31mNameError\u001b[0m: name 'col_sup' is not defined"
     ]
    }
   ],
   "source": [
    "data_rfe = data[col_sup]\n",
    "data_poly = poly.fit_transform(data_rfe)\n",
    "\n",
    "X_train_rfe_poly, X_test_rfe_poly, y_train, y_test = train_test_split(data_poly, y, train_size=0.75, random_state=42)\n",
    "\n",
    "rfc = RandomForestRegressor()\n",
    "rfc.fit(X_train_rfe_poly, y_train)\n",
    "y_rfe_pred = rfc.predict(X_test_rfe_poly)\n",
    "\n",
    "r2_rfe = r2_score(y_test, y_rfe_pred)\n",
    "print(f\"Accuracy is {r2_rfe}\")\n"
   ]
  },
  {
   "cell_type": "code",
   "execution_count": 49,
   "id": "9c30dba6-0826-4922-ad8d-571cbbb0de75",
   "metadata": {},
   "outputs": [
    {
     "data": {
      "text/plain": [
       "array([17026.105])"
      ]
     },
     "execution_count": 49,
     "metadata": {},
     "output_type": "execute_result"
    }
   ],
   "source": [
    "poly_point = X_test_poly[1]\n",
    "model.predict(poly_point.reshape(1, -1))"
   ]
  },
  {
   "cell_type": "code",
   "execution_count": 50,
   "id": "8bd22067-e223-4bf4-a790-99ee8147641b",
   "metadata": {},
   "outputs": [
    {
     "data": {
      "text/plain": [
       "577    13990\n",
       "260    15499\n",
       "389    70990\n",
       "497    11999\n",
       "70      9499\n",
       "       ...  \n",
       "969    32990\n",
       "748    11499\n",
       "897     9022\n",
       "33     38999\n",
       "31     20999\n",
       "Name: price, Length: 194, dtype: int64"
      ]
     },
     "execution_count": 50,
     "metadata": {},
     "output_type": "execute_result"
    }
   ],
   "source": [
    "y_test"
   ]
  },
  {
   "cell_type": "code",
   "execution_count": 51,
   "id": "17ae2640-1fcf-42d6-a71f-eb0e6864abb1",
   "metadata": {},
   "outputs": [
    {
     "data": {
      "text/plain": [
       "array([[-0.04175398, -0.06164538, -0.92308502, ...,  0.        ,\n",
       "         0.        ,  0.        ]])"
      ]
     },
     "execution_count": 51,
     "metadata": {},
     "output_type": "execute_result"
    }
   ],
   "source": [
    "poly_point.reshape(1, -1)"
   ]
  },
  {
   "cell_type": "code",
   "execution_count": 52,
   "id": "fa388ed0-6488-49a6-a427-94306889bbe9",
   "metadata": {},
   "outputs": [],
   "source": [
    "test_y = test[\"price\"]\n",
    "test_X = test.drop(\"price\", axis=1)"
   ]
  },
  {
   "cell_type": "code",
   "execution_count": 53,
   "id": "70bb104e-02f0-4e53-84d2-cd9bcfc11225",
   "metadata": {},
   "outputs": [],
   "source": [
    "test_X_poly = poly.transform(test_X)"
   ]
  },
  {
   "cell_type": "code",
   "execution_count": 54,
   "id": "4acc9c72-6e50-4044-9298-94cd9a0c23d8",
   "metadata": {},
   "outputs": [],
   "source": [
    "preds = []\n",
    "for i in test_X_poly:\n",
    "    datapoint = i.reshape(1, -1)\n",
    "    prediction = model.predict(datapoint)\n",
    "    preds.append(prediction)"
   ]
  },
  {
   "cell_type": "code",
   "execution_count": 55,
   "id": "67ec9b8e-f5b8-4b5d-8509-579cee90fd02",
   "metadata": {},
   "outputs": [
    {
     "data": {
      "text/plain": [
       "[array([110591.03]),\n",
       " array([110260.94]),\n",
       " array([108668.13]),\n",
       " array([110591.03]),\n",
       " array([111200.63])]"
      ]
     },
     "execution_count": 55,
     "metadata": {},
     "output_type": "execute_result"
    }
   ],
   "source": [
    "preds"
   ]
  },
  {
   "cell_type": "code",
   "execution_count": 56,
   "id": "6170926e-5d68-42ba-86bb-02e9b36230f9",
   "metadata": {},
   "outputs": [
    {
     "data": {
      "text/plain": [
       "-151.74705775705647"
      ]
     },
     "execution_count": 56,
     "metadata": {},
     "output_type": "execute_result"
    }
   ],
   "source": [
    "r2_score(test_y, preds)"
   ]
  },
  {
   "cell_type": "code",
   "execution_count": null,
   "id": "df1ee2be-a55d-45a2-810c-611dc4b83455",
   "metadata": {},
   "outputs": [],
   "source": []
  },
  {
   "cell_type": "code",
   "execution_count": 57,
   "id": "3cce800b-8293-458e-afa5-5e0dcdbfb0f8",
   "metadata": {},
   "outputs": [],
   "source": [
    "# X_train_1 = X_train[\"processor_speed\"]"
   ]
  },
  {
   "cell_type": "code",
   "execution_count": 58,
   "id": "0cdeaec5-04f5-4b50-99eb-c330f92d2d50",
   "metadata": {},
   "outputs": [],
   "source": [
    "# X_train_1c = sm.add_constant(X_train_1)\n",
    "\n",
    "# lr_1 = sm.OLS(y_train, X_train_1c).fit()"
   ]
  },
  {
   "cell_type": "code",
   "execution_count": 59,
   "id": "a6928c15-ccd9-4fc0-84a4-6ce20b25543f",
   "metadata": {},
   "outputs": [],
   "source": [
    "# lr_1.params"
   ]
  },
  {
   "cell_type": "code",
   "execution_count": 60,
   "id": "9361f5a8-b528-4f84-a000-9891078c58f5",
   "metadata": {},
   "outputs": [],
   "source": [
    "# lr_1.params[0]"
   ]
  },
  {
   "cell_type": "code",
   "execution_count": 61,
   "id": "59c46698-ebae-4920-bf8c-c8f4ff2bd06e",
   "metadata": {},
   "outputs": [],
   "source": [
    "# plt.scatter(X_train_1c.iloc[:, 1], y_train)\n",
    "# plt.plot(X_train_1c.iloc[:, 1], lr_1.params[1]*X_train.iloc[:, 1]+lr_1.params[0], \"r\")\n",
    "# plt.show()"
   ]
  },
  {
   "cell_type": "code",
   "execution_count": 62,
   "id": "485cb9b9-4512-45a4-9d83-1abc973b9e3a",
   "metadata": {},
   "outputs": [],
   "source": [
    "# print(lr_1.summary())"
   ]
  },
  {
   "cell_type": "code",
   "execution_count": 63,
   "id": "93356545-4036-478c-ba69-1a2e2065dcf3",
   "metadata": {},
   "outputs": [],
   "source": [
    "# X_train_2 = X_train[[\"rating\", \"processor_speed\"]]"
   ]
  },
  {
   "cell_type": "code",
   "execution_count": 64,
   "id": "9d0bc225-5b32-4944-8b94-040694942324",
   "metadata": {},
   "outputs": [],
   "source": [
    "# X_train_2c = sm.add_constant(X_train_2)\n",
    "\n",
    "# lr_2 = sm.OLS(y_train, X_train_2c).fit()"
   ]
  },
  {
   "cell_type": "code",
   "execution_count": 65,
   "id": "26dd6b89-3611-47e8-91ab-2b5d8fb02b99",
   "metadata": {},
   "outputs": [],
   "source": [
    "# print(lr_2.summary())"
   ]
  },
  {
   "cell_type": "code",
   "execution_count": 66,
   "id": "fd66d711-b0d3-4393-9561-ed3e45186e6b",
   "metadata": {},
   "outputs": [],
   "source": [
    "# X_train_3 = X_train[[\"rating\", \"processor_speed\", \"internal_memory\"]]"
   ]
  },
  {
   "cell_type": "code",
   "execution_count": 67,
   "id": "f7386acc-57dd-4ad1-81c1-52bd09e57d2d",
   "metadata": {},
   "outputs": [],
   "source": [
    "# X_train_3c = sm.add_constant(X_train_3)\n",
    "\n",
    "# lr_3 = sm.OLS(y_train, X_train_3c).fit()"
   ]
  },
  {
   "cell_type": "code",
   "execution_count": 68,
   "id": "a6a44a39-5f8d-409a-af7e-0f9748da4d14",
   "metadata": {},
   "outputs": [],
   "source": [
    "# print(lr_3.summary())"
   ]
  },
  {
   "cell_type": "code",
   "execution_count": 69,
   "id": "5a969194-04e3-47ca-a03f-a9a03a243fc8",
   "metadata": {},
   "outputs": [],
   "source": [
    "from sklearn.ensemble import GradientBoostingRegressor"
   ]
  },
  {
   "cell_type": "code",
   "execution_count": 70,
   "id": "dd7596a0-3f0a-4ba1-81a5-7f93f94687a3",
   "metadata": {},
   "outputs": [
    {
     "ename": "ValueError",
     "evalue": "Found input variables with inconsistent numbers of samples: [731, 776]",
     "output_type": "error",
     "traceback": [
      "\u001b[0;31m---------------------------------------------------------------------------\u001b[0m",
      "\u001b[0;31mValueError\u001b[0m                                Traceback (most recent call last)",
      "Cell \u001b[0;32mIn[70], line 2\u001b[0m\n\u001b[1;32m      1\u001b[0m lm \u001b[38;5;241m=\u001b[39m GradientBoostingRegressor()\n\u001b[0;32m----> 2\u001b[0m lm\u001b[38;5;241m.\u001b[39mfit(X_train, y_train)\n\u001b[1;32m      4\u001b[0m rfe \u001b[38;5;241m=\u001b[39m RFE(lm, n_features_to_select\u001b[38;5;241m=\u001b[39m\u001b[38;5;241m30\u001b[39m)\n\u001b[1;32m      5\u001b[0m rfe \u001b[38;5;241m=\u001b[39m rfe\u001b[38;5;241m.\u001b[39mfit(X_train, y_train)\n",
      "File \u001b[0;32m~/anaconda3/lib/python3.12/site-packages/sklearn/base.py:1474\u001b[0m, in \u001b[0;36m_fit_context.<locals>.decorator.<locals>.wrapper\u001b[0;34m(estimator, *args, **kwargs)\u001b[0m\n\u001b[1;32m   1467\u001b[0m     estimator\u001b[38;5;241m.\u001b[39m_validate_params()\n\u001b[1;32m   1469\u001b[0m \u001b[38;5;28;01mwith\u001b[39;00m config_context(\n\u001b[1;32m   1470\u001b[0m     skip_parameter_validation\u001b[38;5;241m=\u001b[39m(\n\u001b[1;32m   1471\u001b[0m         prefer_skip_nested_validation \u001b[38;5;129;01mor\u001b[39;00m global_skip_validation\n\u001b[1;32m   1472\u001b[0m     )\n\u001b[1;32m   1473\u001b[0m ):\n\u001b[0;32m-> 1474\u001b[0m     \u001b[38;5;28;01mreturn\u001b[39;00m fit_method(estimator, \u001b[38;5;241m*\u001b[39margs, \u001b[38;5;241m*\u001b[39m\u001b[38;5;241m*\u001b[39mkwargs)\n",
      "File \u001b[0;32m~/anaconda3/lib/python3.12/site-packages/sklearn/ensemble/_gb.py:659\u001b[0m, in \u001b[0;36mBaseGradientBoosting.fit\u001b[0;34m(self, X, y, sample_weight, monitor)\u001b[0m\n\u001b[1;32m    653\u001b[0m     \u001b[38;5;28mself\u001b[39m\u001b[38;5;241m.\u001b[39m_clear_state()\n\u001b[1;32m    655\u001b[0m \u001b[38;5;66;03m# Check input\u001b[39;00m\n\u001b[1;32m    656\u001b[0m \u001b[38;5;66;03m# Since check_array converts both X and y to the same dtype, but the\u001b[39;00m\n\u001b[1;32m    657\u001b[0m \u001b[38;5;66;03m# trees use different types for X and y, checking them separately.\u001b[39;00m\n\u001b[0;32m--> 659\u001b[0m X, y \u001b[38;5;241m=\u001b[39m \u001b[38;5;28mself\u001b[39m\u001b[38;5;241m.\u001b[39m_validate_data(\n\u001b[1;32m    660\u001b[0m     X, y, accept_sparse\u001b[38;5;241m=\u001b[39m[\u001b[38;5;124m\"\u001b[39m\u001b[38;5;124mcsr\u001b[39m\u001b[38;5;124m\"\u001b[39m, \u001b[38;5;124m\"\u001b[39m\u001b[38;5;124mcsc\u001b[39m\u001b[38;5;124m\"\u001b[39m, \u001b[38;5;124m\"\u001b[39m\u001b[38;5;124mcoo\u001b[39m\u001b[38;5;124m\"\u001b[39m], dtype\u001b[38;5;241m=\u001b[39mDTYPE, multi_output\u001b[38;5;241m=\u001b[39m\u001b[38;5;28;01mTrue\u001b[39;00m\n\u001b[1;32m    661\u001b[0m )\n\u001b[1;32m    662\u001b[0m sample_weight_is_none \u001b[38;5;241m=\u001b[39m sample_weight \u001b[38;5;129;01mis\u001b[39;00m \u001b[38;5;28;01mNone\u001b[39;00m\n\u001b[1;32m    663\u001b[0m sample_weight \u001b[38;5;241m=\u001b[39m _check_sample_weight(sample_weight, X)\n",
      "File \u001b[0;32m~/anaconda3/lib/python3.12/site-packages/sklearn/base.py:650\u001b[0m, in \u001b[0;36mBaseEstimator._validate_data\u001b[0;34m(self, X, y, reset, validate_separately, cast_to_ndarray, **check_params)\u001b[0m\n\u001b[1;32m    648\u001b[0m         y \u001b[38;5;241m=\u001b[39m check_array(y, input_name\u001b[38;5;241m=\u001b[39m\u001b[38;5;124m\"\u001b[39m\u001b[38;5;124my\u001b[39m\u001b[38;5;124m\"\u001b[39m, \u001b[38;5;241m*\u001b[39m\u001b[38;5;241m*\u001b[39mcheck_y_params)\n\u001b[1;32m    649\u001b[0m     \u001b[38;5;28;01melse\u001b[39;00m:\n\u001b[0;32m--> 650\u001b[0m         X, y \u001b[38;5;241m=\u001b[39m check_X_y(X, y, \u001b[38;5;241m*\u001b[39m\u001b[38;5;241m*\u001b[39mcheck_params)\n\u001b[1;32m    651\u001b[0m     out \u001b[38;5;241m=\u001b[39m X, y\n\u001b[1;32m    653\u001b[0m \u001b[38;5;28;01mif\u001b[39;00m \u001b[38;5;129;01mnot\u001b[39;00m no_val_X \u001b[38;5;129;01mand\u001b[39;00m check_params\u001b[38;5;241m.\u001b[39mget(\u001b[38;5;124m\"\u001b[39m\u001b[38;5;124mensure_2d\u001b[39m\u001b[38;5;124m\"\u001b[39m, \u001b[38;5;28;01mTrue\u001b[39;00m):\n",
      "File \u001b[0;32m~/anaconda3/lib/python3.12/site-packages/sklearn/utils/validation.py:1281\u001b[0m, in \u001b[0;36mcheck_X_y\u001b[0;34m(X, y, accept_sparse, accept_large_sparse, dtype, order, copy, force_all_finite, ensure_2d, allow_nd, multi_output, ensure_min_samples, ensure_min_features, y_numeric, estimator)\u001b[0m\n\u001b[1;32m   1263\u001b[0m X \u001b[38;5;241m=\u001b[39m check_array(\n\u001b[1;32m   1264\u001b[0m     X,\n\u001b[1;32m   1265\u001b[0m     accept_sparse\u001b[38;5;241m=\u001b[39maccept_sparse,\n\u001b[0;32m   (...)\u001b[0m\n\u001b[1;32m   1276\u001b[0m     input_name\u001b[38;5;241m=\u001b[39m\u001b[38;5;124m\"\u001b[39m\u001b[38;5;124mX\u001b[39m\u001b[38;5;124m\"\u001b[39m,\n\u001b[1;32m   1277\u001b[0m )\n\u001b[1;32m   1279\u001b[0m y \u001b[38;5;241m=\u001b[39m _check_y(y, multi_output\u001b[38;5;241m=\u001b[39mmulti_output, y_numeric\u001b[38;5;241m=\u001b[39my_numeric, estimator\u001b[38;5;241m=\u001b[39mestimator)\n\u001b[0;32m-> 1281\u001b[0m check_consistent_length(X, y)\n\u001b[1;32m   1283\u001b[0m \u001b[38;5;28;01mreturn\u001b[39;00m X, y\n",
      "File \u001b[0;32m~/anaconda3/lib/python3.12/site-packages/sklearn/utils/validation.py:457\u001b[0m, in \u001b[0;36mcheck_consistent_length\u001b[0;34m(*arrays)\u001b[0m\n\u001b[1;32m    455\u001b[0m uniques \u001b[38;5;241m=\u001b[39m np\u001b[38;5;241m.\u001b[39munique(lengths)\n\u001b[1;32m    456\u001b[0m \u001b[38;5;28;01mif\u001b[39;00m \u001b[38;5;28mlen\u001b[39m(uniques) \u001b[38;5;241m>\u001b[39m \u001b[38;5;241m1\u001b[39m:\n\u001b[0;32m--> 457\u001b[0m     \u001b[38;5;28;01mraise\u001b[39;00m \u001b[38;5;167;01mValueError\u001b[39;00m(\n\u001b[1;32m    458\u001b[0m         \u001b[38;5;124m\"\u001b[39m\u001b[38;5;124mFound input variables with inconsistent numbers of samples: \u001b[39m\u001b[38;5;132;01m%r\u001b[39;00m\u001b[38;5;124m\"\u001b[39m\n\u001b[1;32m    459\u001b[0m         \u001b[38;5;241m%\u001b[39m [\u001b[38;5;28mint\u001b[39m(l) \u001b[38;5;28;01mfor\u001b[39;00m l \u001b[38;5;129;01min\u001b[39;00m lengths]\n\u001b[1;32m    460\u001b[0m     )\n",
      "\u001b[0;31mValueError\u001b[0m: Found input variables with inconsistent numbers of samples: [731, 776]"
     ]
    }
   ],
   "source": [
    "lm = GradientBoostingRegressor()\n",
    "lm.fit(X_train, y_train)\n",
    "\n",
    "rfe = RFE(lm, n_features_to_select=30)\n",
    "rfe = rfe.fit(X_train, y_train)"
   ]
  },
  {
   "cell_type": "code",
   "execution_count": null,
   "id": "6b119d2e-c20a-4bca-96bd-a2b6bd06490c",
   "metadata": {
    "scrolled": true
   },
   "outputs": [],
   "source": [
    "list(zip(X_train.columns, rfe.support_, rfe.ranking_))"
   ]
  },
  {
   "cell_type": "code",
   "execution_count": null,
   "id": "9eec0ee7-382b-4627-8974-62651b098c63",
   "metadata": {},
   "outputs": [],
   "source": [
    "col_sup = X_train.columns[rfe.support_]"
   ]
  },
  {
   "cell_type": "code",
   "execution_count": null,
   "id": "15c89dae-848a-48c4-9027-7d778dfefb6c",
   "metadata": {},
   "outputs": [],
   "source": [
    "col_sup"
   ]
  },
  {
   "cell_type": "code",
   "execution_count": null,
   "id": "7c203d6e-3fb2-403a-bbfa-36c1d199565d",
   "metadata": {},
   "outputs": [],
   "source": [
    "X_train_rfe = X_train[col_sup]"
   ]
  },
  {
   "cell_type": "markdown",
   "id": "b5cb72c7-0a31-4f60-9776-bfb0c6d38b72",
   "metadata": {},
   "source": [
    "Conditions for either dropping or accepting the column\n",
    "* High p-value and high VIF => drop the column\n",
    "* High p-value Low VIF or Low p-value, High VIF => drop the column with High p-value first\n",
    "* Low p-value Low VIF => accept the column"
   ]
  },
  {
   "cell_type": "code",
   "execution_count": null,
   "id": "d3467f1e-a401-40f4-9312-612959fcd6a7",
   "metadata": {},
   "outputs": [],
   "source": [
    "# X_train_rfec = sm.add_constant(X_train_rfe)\n",
    "\n",
    "# lm_rfe = sm.OLS(y_train, X_train_rfec).fit()\n",
    "# print(lm_rfe.summary())"
   ]
  },
  {
   "cell_type": "code",
   "execution_count": null,
   "id": "fcf5c385-0ced-4da6-8ac1-060c12f1459b",
   "metadata": {
    "scrolled": true
   },
   "outputs": [],
   "source": [
    "# vif = pd.DataFrame()\n",
    "# vif[\"features\"] = X_train_rfe.columns\n",
    "# vif[\"vif\"] = [variance_inflation_factor(X_train_rfe.values, i) for i in range(X_train_rfe.shape[1])]\n",
    "# vif[\"vif\"] = round(vif[\"vif\"], 2)\n",
    "# vif = vif.sort_values(by=\"vif\", ascending=False)\n",
    "# vif"
   ]
  },
  {
   "cell_type": "code",
   "execution_count": null,
   "id": "b942538a-8ca9-4896-96a6-db020d9ca70e",
   "metadata": {},
   "outputs": [],
   "source": [
    "# def rfe_lm(X_train, y_train=y_train):\n",
    "\n",
    "#     X_train_c = sm.add_constant(X_train)\n",
    "#     lm = sm.OLS(y_train, X_train_c).fit()\n",
    "    \n",
    "#     print(lm.summary())"
   ]
  },
  {
   "cell_type": "code",
   "execution_count": null,
   "id": "ddd997c6-8ed5-4bca-8916-9a56f18af529",
   "metadata": {},
   "outputs": [],
   "source": [
    "# def vif_gen(X_train):\n",
    "\n",
    "#     vif = pd.DataFrame()\n",
    "#     vif[\"features\"] = X_train.columns\n",
    "#     vif[\"vif\"] = [variance_inflation_factor(X_train.values, i) for i in range(X_train.shape[1])]\n",
    "#     vif[\"vif\"] = round(vif[\"vif\"], 2)\n",
    "#     vif = vif.sort_values(by=\"vif\", ascending=False)\n",
    "    \n",
    "#     return vif"
   ]
  },
  {
   "cell_type": "code",
   "execution_count": null,
   "id": "b9362434-99f0-48e3-8e1c-baf2fab466b5",
   "metadata": {},
   "outputs": [],
   "source": [
    "# X_train_rfe1 = X_train_rfe.drop([\"os_other\", \"fast_charging\", \"category_middle_range\",\n",
    "#                                 \"brand_name_asus\", \"brand_name_google\", \"primary_camera_front\", \"brand_name_nubia\",\n",
    "#                                 \"processor_brand_exynos\", \"brand_name_nokia\", \"brand_name_xiaomi\",\n",
    "#                                  \"brand_name_lg\", \"brand_name_vivo\", \"processor_brand_snapdragon\",\n",
    "#                                 \"processor_brand_google\", \"brand_name_motorola\", \"brand_name_oppo\", \"brand_name_honor\"], axis=1)"
   ]
  },
  {
   "cell_type": "code",
   "execution_count": null,
   "id": "f05f1175-e6de-408e-b8cf-7cd840cb004f",
   "metadata": {},
   "outputs": [],
   "source": [
    "# from sklearn.linear_model import Ridge, Lasso\n",
    "# from sklearn.model_selection import cross_val_score\n",
    "\n",
    "# # Ridge Regression\n",
    "# ridge_model = Ridge(alpha=1.0)\n",
    "# ridge_scores = cross_val_score(ridge_model, X_train, y_train, cv=5, scoring='r2')\n",
    "# print(f'Ridge Regression R-squared: {np.mean(ridge_scores)}')\n",
    "\n",
    "# # Lasso Regression\n",
    "# lasso_model = Lasso(alpha=0.1)\n",
    "# lasso_scores = cross_val_score(lasso_model, X_train, y_train, cv=5, scoring='r2')\n",
    "# print(f'Lasso Regression R-squared: {np.mean(lasso_scores)}')\n"
   ]
  },
  {
   "cell_type": "code",
   "execution_count": null,
   "id": "210a6ef5-25b2-42a3-bd90-daebdd7f0abb",
   "metadata": {},
   "outputs": [],
   "source": []
  },
  {
   "cell_type": "code",
   "execution_count": null,
   "id": "fe1c5b37-385b-4ca4-8311-d6b9fe8b5a40",
   "metadata": {},
   "outputs": [],
   "source": []
  },
  {
   "cell_type": "code",
   "execution_count": null,
   "id": "5a99c382-1168-4112-b196-38f821da3b48",
   "metadata": {},
   "outputs": [],
   "source": [
    "# r2_score(y_test, y_pred_poly)"
   ]
  },
  {
   "cell_type": "code",
   "execution_count": null,
   "id": "96b636c6-43af-4c33-aa32-ff0c40336048",
   "metadata": {},
   "outputs": [],
   "source": []
  }
 ],
 "metadata": {
  "kernelspec": {
   "display_name": "Python 3 (ipykernel)",
   "language": "python",
   "name": "python3"
  },
  "language_info": {
   "codemirror_mode": {
    "name": "ipython",
    "version": 3
   },
   "file_extension": ".py",
   "mimetype": "text/x-python",
   "name": "python",
   "nbconvert_exporter": "python",
   "pygments_lexer": "ipython3",
   "version": "3.12.4"
  }
 },
 "nbformat": 4,
 "nbformat_minor": 5
}
